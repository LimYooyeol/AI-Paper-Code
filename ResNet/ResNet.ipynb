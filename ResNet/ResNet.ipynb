{
  "nbformat": 4,
  "nbformat_minor": 0,
  "metadata": {
    "colab": {
      "name": "ResNet.ipynb",
      "provenance": [],
      "collapsed_sections": [],
      "toc_visible": true,
      "authorship_tag": "ABX9TyM2plOrqWG0n45+/+B137kv"
    },
    "kernelspec": {
      "name": "python3",
      "display_name": "Python 3"
    },
    "language_info": {
      "name": "python"
    },
    "accelerator": "GPU"
  },
  "cells": [
    {
      "cell_type": "code",
      "source": [
        "from google.colab import drive\n",
        "drive.mount('/content/drive')\n",
        "\n",
        "BASE = '/content/drive/My Drive/Paper Implementation/'\n",
        "\n",
        "%cd $BASE\n",
        "\n",
        "%pwd"
      ],
      "metadata": {
        "colab": {
          "base_uri": "https://localhost:8080/",
          "height": 72
        },
        "id": "DNO8fe3qCFv8",
        "outputId": "ee68f562-86c0-47c8-bcb0-37e13d0b3f6b"
      },
      "execution_count": null,
      "outputs": [
        {
          "output_type": "stream",
          "name": "stdout",
          "text": [
            "Mounted at /content/drive\n",
            "/content/drive/My Drive/Paper Implementation\n"
          ]
        },
        {
          "output_type": "execute_result",
          "data": {
            "application/vnd.google.colaboratory.intrinsic+json": {
              "type": "string"
            },
            "text/plain": [
              "'/content/drive/My Drive/Paper Implementation'"
            ]
          },
          "metadata": {},
          "execution_count": 1
        }
      ]
    },
    {
      "cell_type": "code",
      "execution_count": null,
      "metadata": {
        "id": "p5nqSudos0ZM"
      },
      "outputs": [],
      "source": [
        "import torch\n",
        "import torch.nn as nn\n",
        "import torch.optim as optim\n",
        "\n",
        "import torch.nn.functional as F\n",
        "\n",
        "from torch.utils.data import DataLoader\n",
        "from torch.utils.data import sampler\n",
        "\n",
        "import torchvision.datasets as dset\n",
        "import torchvision.transforms as T\n",
        "\n",
        "import numpy as np\n",
        "\n",
        "import os"
      ]
    },
    {
      "cell_type": "markdown",
      "source": [
        "## Prepare Data (CIFAR 10)"
      ],
      "metadata": {
        "id": "NxPQMABu_-sv"
      }
    },
    {
      "cell_type": "markdown",
      "source": [
        "### load data"
      ],
      "metadata": {
        "id": "ltqZtYtsX4vn"
      }
    },
    {
      "cell_type": "code",
      "source": [
        "DATAPATH = BASE + 'datasets'\n",
        "if not os.path.exists(DATAPATH):\n",
        "  os.mkdir(DATAPATH)\n",
        "\n",
        "# set device\n",
        "if torch.cuda.is_available() :\n",
        "  device = torch.device('cuda')\n",
        "else:\n",
        "  device = torch.device('cpu')\n",
        "\n",
        "\n",
        "transform = T.Compose([\n",
        "                       T.ToTensor(),\n",
        "                       T.Normalize((0.4914, 0.4822, 0.4465), (0.247, 0.243, 0.261))\n",
        "    ])\n",
        "\n",
        "\n",
        "# load data\n",
        "train_data = dset.CIFAR10('./datasets', train = True, download = True, transform = transform)\n",
        "loader_train = DataLoader(train_data, batch_size = 32, shuffle= True) # no validation set\n",
        "\n",
        "test_data = dset.CIFAR10('./datasets', train = False, download = True, transform= transform)\n",
        "loader_test = DataLoader(test_data, batch_size = 32, shuffle = True)"
      ],
      "metadata": {
        "colab": {
          "base_uri": "https://localhost:8080/"
        },
        "id": "4pvvrN2-36Ye",
        "outputId": "f243f6a5-a34e-401e-8734-3163fdfdb221"
      },
      "execution_count": null,
      "outputs": [
        {
          "output_type": "stream",
          "name": "stdout",
          "text": [
            "Files already downloaded and verified\n",
            "Files already downloaded and verified\n"
          ]
        }
      ]
    },
    {
      "cell_type": "markdown",
      "source": [
        "### show an image"
      ],
      "metadata": {
        "id": "oCiWd-wcXkjK"
      }
    },
    {
      "cell_type": "code",
      "source": [
        "import matplotlib.pyplot as plt\n",
        "\n",
        "_, label = train_data[0]\n",
        "img = train_data.data[0]\n",
        "plt.imshow(img)\n",
        "plt.show()\n",
        "print(label)\n",
        "train_data.classes[label]"
      ],
      "metadata": {
        "colab": {
          "base_uri": "https://localhost:8080/",
          "height": 302
        },
        "id": "PXz0w4zYJV3I",
        "outputId": "4ca83c82-f752-4ab7-e7c4-be30ca96262d"
      },
      "execution_count": null,
      "outputs": [
        {
          "output_type": "display_data",
          "data": {
            "image/png": "[encoded data removed]",
            "text/plain": [
              "<Figure size 432x288 with 1 Axes>"
            ]
          },
          "metadata": {
            "needs_background": "light"
          }
        },
        {
          "output_type": "stream",
          "name": "stdout",
          "text": [
            "6\n"
          ]
        },
        {
          "output_type": "execute_result",
          "data": {
            "application/vnd.google.colaboratory.intrinsic+json": {
              "type": "string"
            },
            "text/plain": [
              "'frog'"
            ]
          },
          "metadata": {},
          "execution_count": 4
        }
      ]
    },
    {
      "cell_type": "markdown",
      "source": [
        "## Define Training Loop"
      ],
      "metadata": {
        "id": "5CXT4RTzxvwU"
      }
    },
    {
      "cell_type": "markdown",
      "source": [
        "Referenced a lot from cs231n/assignment2 a lot for this part\n",
        "(# https://cs231n.github.io/assignments2021/assignment2/)"
      ],
      "metadata": {
        "id": "62XNtfDRZVSF"
      }
    },
    {
      "cell_type": "markdown",
      "source": [
        "### Calculate Accuracy"
      ],
      "metadata": {
        "id": "niQT0pmqXtm_"
      }
    },
    {
      "cell_type": "code",
      "source": [
        "def check_accuracy(data_loader, model) :\n",
        "  if data_loader.dataset.train :\n",
        "    print('Train set accurcy')\n",
        "  else :\n",
        "    print('Test set accuracy')\n",
        "\n",
        "  num_correct = 0\n",
        "  num_total = 0\n",
        "  model.eval() # evaluation mode\n",
        "\n",
        "  with torch.no_grad() :\n",
        "    for x, y in data_loader :\n",
        "      x = x.to(device = device)\n",
        "      y = y.to(device = device)\n",
        "\n",
        "      scores = model(x)\n",
        "\n",
        "      _, preds = scores.max(1)\n",
        "      num_correct += (preds == y).sum()\n",
        "      num_total += preds.size(0)\n",
        "    \n",
        "    acc = float(num_correct) / num_total\n",
        "    print('Correct : (%d / %d), Accuracy : (%.2f)' % (num_correct, num_total, 100*acc))\n",
        "\n",
        "  return 100*acc"
      ],
      "metadata": {
        "id": "zNbcznX_106t"
      },
      "execution_count": null,
      "outputs": []
    },
    {
      "cell_type": "markdown",
      "source": [
        "### Training Loop"
      ],
      "metadata": {
        "id": "4Gd2Qx4SXyCi"
      }
    },
    {
      "cell_type": "code",
      "source": [
        "def train(model, optimizer, data_loader, epochs = 1, verbose = True):\n",
        "  model = model.to(device = device)\n",
        "\n",
        "  log = {'loss' : [], 'acc' : []}\n",
        "\n",
        "  for e in range(epochs):\n",
        "    print('epochs : %d / %d' % (e, epochs))\n",
        "    log['acc'].append(check_accuracy(loader_test, model))\n",
        "    \n",
        "    for t, (x, y) in enumerate(data_loader) :\n",
        "      model.train() # training mode\n",
        "      x = x.to(device = device)\n",
        "      y = y.to(device = device)\n",
        "\n",
        "      scores = model(x)\n",
        "      loss = F.cross_entropy(scores, y)\n",
        "\n",
        "      optimizer.zero_grad()\n",
        "\n",
        "      loss.backward()\n",
        "\n",
        "      optimizer.step()\n",
        "\n",
        "\n",
        "      if t % 100 == 0 :\n",
        "        log['loss'].append(loss)\n",
        "        print('iteration %d, loss = %.4f' % (t, loss.item()))\n",
        "  \n",
        "  return log"
      ],
      "metadata": {
        "id": "hQYOvEs2xzvR"
      },
      "execution_count": null,
      "outputs": []
    },
    {
      "cell_type": "markdown",
      "source": [
        "## Modules"
      ],
      "metadata": {
        "id": "pIkkaQ6vaxdJ"
      }
    },
    {
      "cell_type": "markdown",
      "source": [
        "### Flatten"
      ],
      "metadata": {
        "id": "MQO0_Im8a41B"
      }
    },
    {
      "cell_type": "code",
      "source": [
        "def flatten(x) :\n",
        "  N = x.shape[0]\n",
        "  return x.view(N, -1)\n",
        "\n",
        "class Flatten(nn.Module) :\n",
        "  def forward(self,x ):\n",
        "    return flatten(x)"
      ],
      "metadata": {
        "id": "V_mBE6SnxoNW"
      },
      "execution_count": null,
      "outputs": []
    },
    {
      "cell_type": "markdown",
      "source": [
        "### Plain-Net"
      ],
      "metadata": {
        "id": "A8H_rBKEa7c9"
      }
    },
    {
      "cell_type": "code",
      "source": [
        "# Conv-BN-ReLU\n",
        "class ConvReLU(nn.Module) :\n",
        "  def __init__(self, in_channel, out_channel, stride = 1, padding = 1) :\n",
        "    super().__init__()\n",
        "\n",
        "    self.conv = nn.Conv2d(in_channel, out_channel, kernel_size = 3, stride = stride, padding = padding, bias = False)\n",
        "    self.BN = nn.BatchNorm2d(out_channel)\n",
        "    self.relu = nn.ReLU()\n",
        "\n",
        "  def forward(self, x) :\n",
        "    x = self.conv(x)\n",
        "    x = self.BN(x)\n",
        "    x = self.relu(x)\n",
        "\n",
        "    return x"
      ],
      "metadata": {
        "id": "lEsL0XvaC52R"
      },
      "execution_count": null,
      "outputs": []
    },
    {
      "cell_type": "code",
      "source": [
        "# Block consists of 2*n ConvReLU modules\n",
        "class Feature_Block_Plain(nn.Module) :\n",
        "  def __init__(self, in_channel, out_channel, n, feature_reduce = False) :\n",
        "    super().__init__()\n",
        "\n",
        "    self.n = n\n",
        "\n",
        "    if feature_reduce : \n",
        "      stride = 2\n",
        "    else :\n",
        "      stride = 1\n",
        "\n",
        "    layers = [ConvReLU(in_channel, out_channel, stride = stride, padding = 1)]\n",
        "\n",
        "    for i in range(0, 2*n - 1):\n",
        "      layers.append( ConvReLU(out_channel, out_channel, padding = 1))\n",
        "    \n",
        "    self.layers = nn.ModuleList(layers)\n",
        "\n",
        "  def forward(self, x) :\n",
        "    for i in range(0, 2*self.n) :\n",
        "      x = self.layers[i](x)\n",
        "\n",
        "    return x\n"
      ],
      "metadata": {
        "id": "5HCfPdYsB23b"
      },
      "execution_count": null,
      "outputs": []
    },
    {
      "cell_type": "code",
      "source": [
        "# Plain Net\n",
        "class Plain_Net(nn.Module) :\n",
        "  def __init__(self, n) :\n",
        "    super().__init__()\n",
        "\n",
        "    self.init_layer = nn.Sequential(\n",
        "        nn.Conv2d(3, 16, kernel_size = 3, padding = 1, bias = False),\n",
        "        nn.BatchNorm2d(16),\n",
        "        nn.ReLU()\n",
        "    )\n",
        "    \n",
        "    self.FB1 = Feature_Block_Plain(16, 16, n)\n",
        "    self.FB2 = Feature_Block_Plain(16, 32, n, feature_reduce = True)\n",
        "    self.FB3 = Feature_Block_Plain(32, 64, n, feature_reduce = True)\n",
        "\n",
        "    self.FC = nn.Sequential(\n",
        "        Flatten(),\n",
        "        nn.Linear(8*8*64, 10)\n",
        "    )\n",
        "\n",
        "  def forward(self, x):\n",
        "    x = self.init_layer(x)\n",
        "    x = self.FB3(self.FB2(self.FB1(x)))\n",
        "    x = self.FC(x)\n",
        "\n",
        "    return x\n"
      ],
      "metadata": {
        "id": "5Gq07pwjFFpW"
      },
      "execution_count": null,
      "outputs": []
    },
    {
      "cell_type": "markdown",
      "source": [
        "### ResNet"
      ],
      "metadata": {
        "id": "hhDvb_5RjpTE"
      }
    },
    {
      "cell_type": "code",
      "source": [
        "# Basic residual block consists of pair of convolution layer\n",
        "class Residual_Block(nn.Module) :\n",
        "  def __init__(self, in_channel, out_channel, feature_reduce = False) :\n",
        "    super().__init__()\n",
        "\n",
        "    self.feature_reduce = feature_reduce\n",
        "\n",
        "    if feature_reduce :\n",
        "      stride = 2\n",
        "    else : \n",
        "      stride = 1\n",
        "\n",
        "    self.Conv = nn.Sequential(\n",
        "        nn.Conv2d(in_channel, out_channel, kernel_size = 3, stride = stride, padding = 1, bias = False), \n",
        "        nn.BatchNorm2d(out_channel),\n",
        "        nn.ReLU(),\n",
        "        nn.Conv2d(out_channel, out_channel, kernel_size = 3, padding = 1, bias =  False),\n",
        "        nn.BatchNorm2d(out_channel)\n",
        "    )\n",
        "\n",
        "    if feature_reduce :\n",
        "      self.shortcut = nn.Sequential(\n",
        "          # reduce feature map by pooling (No more parameters, option (A))\n",
        "          nn.MaxPool2d(kernel_size = 2, stride = 2)\n",
        "      )\n",
        "    else :\n",
        "      self.shortcut = nn.Identity()\n",
        "\n",
        "  def forward(self, x) :\n",
        "    x_prev = self.shortcut(x)\n",
        "    \n",
        "    if self.feature_reduce :\n",
        "      # zero padding for dimension matching\n",
        "      concat = torch.zeros_like(x_prev)\n",
        "      x_prev = torch.concat((x_prev, concat), axis = 1)\n",
        "    else :\n",
        "      x_prev = x_prev\n",
        "\n",
        "    F_x = self.Conv(x)\n",
        "\n",
        "    return F.relu(F_x + x_prev)\n"
      ],
      "metadata": {
        "id": "qpyLrpcljsoU"
      },
      "execution_count": null,
      "outputs": []
    },
    {
      "cell_type": "code",
      "source": [
        "# Block consists of n residual blocks\n",
        "class Feature_Block(nn.Module) :\n",
        "  def __init__(self, in_channel, out_channel, n, feature_reduce = False) :\n",
        "    super().__init__()\n",
        "    self.n = n\n",
        "\n",
        "    residual_blocks = [Residual_Block(in_channel, out_channel, feature_reduce = feature_reduce)]\n",
        "\n",
        "    for i in range(0, n-1) :\n",
        "      residual_blocks.append(Residual_Block(out_channel, out_channel))\n",
        "    \n",
        "    self.residual_blocks = nn.ModuleList(residual_blocks)\n",
        "\n",
        "  def forward(self, x) :\n",
        "    for i in range(0, self.n) :\n",
        "      x = self.residual_blocks[i](x)\n",
        "\n",
        "    return x      "
      ],
      "metadata": {
        "id": "IzScF6bSpbpT"
      },
      "execution_count": null,
      "outputs": []
    },
    {
      "cell_type": "code",
      "source": [
        "# ResNet\n",
        "class ResNet(nn.Module) :\n",
        "  def __init__(self, n) :\n",
        "    super().__init__()\n",
        "\n",
        "    self.init_layer = nn.Sequential(\n",
        "        nn.Conv2d(3, 16, kernel_size = 3, padding = 1, bias = False),\n",
        "        nn.BatchNorm2d(16),\n",
        "        nn.ReLU()\n",
        "    )\n",
        "\n",
        "    self.Feature_Block1 = Feature_Block(16, 16, n)\n",
        "\n",
        "    self.Feature_Block2 = Feature_Block(16, 32, n, feature_reduce = True)\n",
        "\n",
        "    self.Feature_Block3 = Feature_Block(32, 64, n, feature_reduce = True)\n",
        "\n",
        "    self.FC = nn.Sequential(\n",
        "        Flatten(),\n",
        "        nn.Linear(8*8*64, 10)\n",
        "    )\n",
        "\n",
        "  def forward(self, x) :\n",
        "    x = self.init_layer(x)\n",
        "    x = self.Feature_Block1(x)\n",
        "    x = self.Feature_Block2(x)\n",
        "    x = self.Feature_Block3(x)\n",
        "    x = self.FC(x)\n",
        "\n",
        "    return x"
      ],
      "metadata": {
        "id": "Tcqa2KkV3D2a"
      },
      "execution_count": null,
      "outputs": []
    },
    {
      "cell_type": "markdown",
      "source": [
        "## Train"
      ],
      "metadata": {
        "id": "aQzcgnlx28kx"
      }
    },
    {
      "cell_type": "code",
      "source": [
        "def plot_loss(loss, label) :\n",
        "  plt.xlabel('iterations(1e2)')\n",
        "  plt.ylabel('training loss')\n",
        "\n",
        "  plt.plot(loss, label = label)\n",
        "  plt.legend()"
      ],
      "metadata": {
        "id": "GEc5Qr7ucrBK"
      },
      "execution_count": null,
      "outputs": []
    },
    {
      "cell_type": "code",
      "source": [
        "def plot_acc(acc, label) :\n",
        "  plt.xlabel('epochs')\n",
        "  plt.ylabel('accuracy(test data)')\n",
        "\n",
        "  plt.plot(acc, label = label)\n",
        "  plt.legend()"
      ],
      "metadata": {
        "id": "jDtib7P9lBxz"
      },
      "execution_count": null,
      "outputs": []
    },
    {
      "cell_type": "markdown",
      "source": [
        "### Plain-Net"
      ],
      "metadata": {
        "id": "FP73kS2okvOI"
      }
    },
    {
      "cell_type": "code",
      "source": [
        "learning_rate = 5e-3\n",
        "\n",
        "plain = Plain_Net(5)\n",
        "optimizer_plain = optim.SGD(plain.parameters(), lr = learning_rate, momentum = 0.9, nesterov = True)"
      ],
      "metadata": {
        "id": "qxN2OJN4BDbK"
      },
      "execution_count": null,
      "outputs": []
    },
    {
      "cell_type": "code",
      "source": [
        "train_log_plain = train(plain, optimizer_plain, loader_train, epochs = 15, verbose = True)"
      ],
      "metadata": {
        "colab": {
          "base_uri": "https://localhost:8080/"
        },
        "id": "LPjiQPzjlduQ",
        "outputId": "031d2dca-7285-4819-ff00-e3a8ac7d53c0"
      },
      "execution_count": null,
      "outputs": [
        {
          "output_type": "stream",
          "name": "stdout",
          "text": [
            "epochs : 0 / 15\n",
            "Test set accuracy\n",
            "Correct : (1000 / 10000), Accuracy : (10.00)\n",
            "iteration 0, loss = 2.3005\n",
            "iteration 100, loss = 2.2980\n",
            "iteration 200, loss = 2.0985\n",
            "iteration 300, loss = 2.0021\n",
            "iteration 400, loss = 2.1073\n",
            "iteration 500, loss = 2.0192\n",
            "iteration 600, loss = 1.6777\n",
            "iteration 700, loss = 1.8531\n",
            "iteration 800, loss = 1.9356\n",
            "iteration 900, loss = 1.8021\n",
            "iteration 1000, loss = 1.9483\n",
            "iteration 1100, loss = 1.6219\n",
            "iteration 1200, loss = 1.8242\n",
            "iteration 1300, loss = 1.7968\n",
            "iteration 1400, loss = 1.8724\n",
            "iteration 1500, loss = 2.0196\n",
            "epochs : 1 / 15\n",
            "Test set accuracy\n",
            "Correct : (3832 / 10000), Accuracy : (38.32)\n",
            "iteration 0, loss = 1.6096\n",
            "iteration 100, loss = 1.7455\n",
            "iteration 200, loss = 1.7323\n",
            "iteration 300, loss = 1.4636\n",
            "iteration 400, loss = 1.6671\n",
            "iteration 500, loss = 1.6159\n",
            "iteration 600, loss = 1.6784\n",
            "iteration 700, loss = 1.7770\n",
            "iteration 800, loss = 1.5477\n",
            "iteration 900, loss = 1.6942\n",
            "iteration 1000, loss = 1.7860\n",
            "iteration 1100, loss = 1.5864\n",
            "iteration 1200, loss = 1.5094\n",
            "iteration 1300, loss = 1.7162\n",
            "iteration 1400, loss = 1.4121\n",
            "iteration 1500, loss = 1.3602\n",
            "epochs : 2 / 15\n",
            "Test set accuracy\n",
            "Correct : (4363 / 10000), Accuracy : (43.63)\n",
            "iteration 0, loss = 1.4122\n",
            "iteration 100, loss = 1.1409\n",
            "iteration 200, loss = 1.3628\n",
            "iteration 300, loss = 1.6564\n",
            "iteration 400, loss = 1.2825\n",
            "iteration 500, loss = 1.4328\n",
            "iteration 600, loss = 1.7557\n",
            "iteration 700, loss = 1.4885\n",
            "iteration 800, loss = 1.3407\n",
            "iteration 900, loss = 1.3634\n",
            "iteration 1000, loss = 1.2421\n",
            "iteration 1100, loss = 1.4961\n",
            "iteration 1200, loss = 1.2567\n",
            "iteration 1300, loss = 1.2575\n",
            "iteration 1400, loss = 1.1609\n",
            "iteration 1500, loss = 1.3871\n",
            "epochs : 3 / 15\n",
            "Test set accuracy\n",
            "Correct : (4994 / 10000), Accuracy : (49.94)\n",
            "iteration 0, loss = 1.5108\n",
            "iteration 100, loss = 1.5170\n",
            "iteration 200, loss = 1.4381\n",
            "iteration 300, loss = 1.3040\n",
            "iteration 400, loss = 1.4859\n",
            "iteration 500, loss = 1.4605\n",
            "iteration 600, loss = 1.2029\n",
            "iteration 700, loss = 1.3021\n",
            "iteration 800, loss = 0.9295\n",
            "iteration 900, loss = 1.4880\n",
            "iteration 1000, loss = 1.2894\n",
            "iteration 1100, loss = 1.2768\n",
            "iteration 1200, loss = 1.1797\n",
            "iteration 1300, loss = 1.0838\n",
            "iteration 1400, loss = 1.0226\n",
            "iteration 1500, loss = 1.4274\n",
            "epochs : 4 / 15\n",
            "Test set accuracy\n",
            "Correct : (5226 / 10000), Accuracy : (52.26)\n",
            "iteration 0, loss = 1.2786\n",
            "iteration 100, loss = 1.0044\n",
            "iteration 200, loss = 1.1338\n",
            "iteration 300, loss = 0.9805\n",
            "iteration 400, loss = 0.9001\n",
            "iteration 500, loss = 1.0441\n",
            "iteration 600, loss = 1.4819\n",
            "iteration 700, loss = 1.1700\n",
            "iteration 800, loss = 1.4849\n",
            "iteration 900, loss = 1.0829\n",
            "iteration 1000, loss = 1.4620\n",
            "iteration 1100, loss = 1.2767\n",
            "iteration 1200, loss = 1.1324\n",
            "iteration 1300, loss = 0.9382\n",
            "iteration 1400, loss = 1.1127\n",
            "iteration 1500, loss = 1.0812\n",
            "epochs : 5 / 15\n",
            "Test set accuracy\n",
            "Correct : (5968 / 10000), Accuracy : (59.68)\n",
            "iteration 0, loss = 0.9218\n",
            "iteration 100, loss = 1.0655\n",
            "iteration 200, loss = 1.2019\n",
            "iteration 300, loss = 1.3390\n",
            "iteration 400, loss = 1.1478\n",
            "iteration 500, loss = 1.2324\n",
            "iteration 600, loss = 1.0345\n",
            "iteration 700, loss = 1.3107\n",
            "iteration 800, loss = 0.9898\n",
            "iteration 900, loss = 0.8289\n",
            "iteration 1000, loss = 0.8625\n",
            "iteration 1100, loss = 1.0491\n",
            "iteration 1200, loss = 1.2858\n",
            "iteration 1300, loss = 0.9049\n",
            "iteration 1400, loss = 0.8178\n",
            "iteration 1500, loss = 1.0643\n",
            "epochs : 6 / 15\n",
            "Test set accuracy\n",
            "Correct : (6197 / 10000), Accuracy : (61.97)\n",
            "iteration 0, loss = 0.8485\n",
            "iteration 100, loss = 0.8805\n",
            "iteration 200, loss = 1.1164\n",
            "iteration 300, loss = 0.6718\n",
            "iteration 400, loss = 1.4433\n",
            "iteration 500, loss = 1.0504\n",
            "iteration 600, loss = 1.4395\n",
            "iteration 700, loss = 0.9322\n",
            "iteration 800, loss = 0.8647\n",
            "iteration 900, loss = 1.0571\n",
            "iteration 1000, loss = 0.5515\n",
            "iteration 1100, loss = 1.1519\n",
            "iteration 1200, loss = 0.7630\n",
            "iteration 1300, loss = 0.9049\n",
            "iteration 1400, loss = 0.9525\n",
            "iteration 1500, loss = 1.1830\n",
            "epochs : 7 / 15\n",
            "Test set accuracy\n",
            "Correct : (6613 / 10000), Accuracy : (66.13)\n",
            "iteration 0, loss = 0.7406\n",
            "iteration 100, loss = 1.2572\n",
            "iteration 200, loss = 1.0030\n",
            "iteration 300, loss = 0.9320\n",
            "iteration 400, loss = 0.9277\n",
            "iteration 500, loss = 0.7482\n",
            "iteration 600, loss = 0.8580\n",
            "iteration 700, loss = 0.8763\n",
            "iteration 800, loss = 1.0356\n",
            "iteration 900, loss = 1.1028\n",
            "iteration 1000, loss = 1.1159\n",
            "iteration 1100, loss = 1.0638\n",
            "iteration 1200, loss = 0.8568\n",
            "iteration 1300, loss = 0.7260\n",
            "iteration 1400, loss = 0.9001\n",
            "iteration 1500, loss = 1.0653\n",
            "epochs : 8 / 15\n",
            "Test set accuracy\n",
            "Correct : (6792 / 10000), Accuracy : (67.92)\n",
            "iteration 0, loss = 0.8805\n",
            "iteration 100, loss = 0.5849\n",
            "iteration 200, loss = 0.6812\n",
            "iteration 300, loss = 0.5338\n",
            "iteration 400, loss = 0.8589\n",
            "iteration 500, loss = 0.8160\n",
            "iteration 600, loss = 1.0159\n",
            "iteration 700, loss = 0.9486\n",
            "iteration 800, loss = 0.7694\n",
            "iteration 900, loss = 0.7299\n",
            "iteration 1000, loss = 0.6444\n",
            "iteration 1100, loss = 0.6383\n",
            "iteration 1200, loss = 0.7355\n",
            "iteration 1300, loss = 0.7351\n",
            "iteration 1400, loss = 1.2195\n",
            "iteration 1500, loss = 0.8851\n",
            "epochs : 9 / 15\n",
            "Test set accuracy\n",
            "Correct : (6847 / 10000), Accuracy : (68.47)\n",
            "iteration 0, loss = 0.6482\n",
            "iteration 100, loss = 0.6240\n",
            "iteration 200, loss = 0.6149\n",
            "iteration 300, loss = 0.4692\n",
            "iteration 400, loss = 0.8380\n",
            "iteration 500, loss = 0.7019\n",
            "iteration 600, loss = 0.6356\n",
            "iteration 700, loss = 0.9530\n",
            "iteration 800, loss = 0.5557\n",
            "iteration 900, loss = 0.8236\n",
            "iteration 1000, loss = 0.7109\n",
            "iteration 1100, loss = 0.5051\n",
            "iteration 1200, loss = 0.4404\n",
            "iteration 1300, loss = 1.0956\n",
            "iteration 1400, loss = 0.7417\n",
            "iteration 1500, loss = 0.5819\n",
            "epochs : 10 / 15\n",
            "Test set accuracy\n",
            "Correct : (6989 / 10000), Accuracy : (69.89)\n",
            "iteration 0, loss = 0.7753\n",
            "iteration 100, loss = 0.6234\n",
            "iteration 200, loss = 0.5711\n",
            "iteration 300, loss = 0.6544\n",
            "iteration 400, loss = 0.6043\n",
            "iteration 500, loss = 0.7589\n",
            "iteration 600, loss = 0.9049\n",
            "iteration 700, loss = 0.5195\n",
            "iteration 800, loss = 0.8265\n",
            "iteration 900, loss = 0.5322\n",
            "iteration 1000, loss = 0.6019\n",
            "iteration 1100, loss = 0.9071\n",
            "iteration 1200, loss = 0.6164\n",
            "iteration 1300, loss = 0.7718\n",
            "iteration 1400, loss = 0.8551\n",
            "iteration 1500, loss = 0.6126\n",
            "epochs : 11 / 15\n",
            "Test set accuracy\n",
            "Correct : (7031 / 10000), Accuracy : (70.31)\n",
            "iteration 0, loss = 0.5372\n",
            "iteration 100, loss = 0.6018\n",
            "iteration 200, loss = 0.5380\n",
            "iteration 300, loss = 0.3940\n",
            "iteration 400, loss = 0.9024\n",
            "iteration 500, loss = 0.6207\n",
            "iteration 600, loss = 0.9486\n",
            "iteration 700, loss = 0.8228\n",
            "iteration 800, loss = 0.8587\n",
            "iteration 900, loss = 0.6083\n",
            "iteration 1000, loss = 0.7605\n",
            "iteration 1100, loss = 0.6341\n",
            "iteration 1200, loss = 0.5855\n",
            "iteration 1300, loss = 0.8010\n",
            "iteration 1400, loss = 0.5421\n",
            "iteration 1500, loss = 0.5200\n",
            "epochs : 12 / 15\n",
            "Test set accuracy\n",
            "Correct : (7234 / 10000), Accuracy : (72.34)\n",
            "iteration 0, loss = 0.6330\n",
            "iteration 100, loss = 0.8506\n",
            "iteration 200, loss = 0.6690\n",
            "iteration 300, loss = 0.7404\n",
            "iteration 400, loss = 0.4643\n",
            "iteration 500, loss = 0.2144\n",
            "iteration 600, loss = 0.4985\n",
            "iteration 700, loss = 0.6020\n",
            "iteration 800, loss = 0.6931\n",
            "iteration 900, loss = 0.5725\n",
            "iteration 1000, loss = 0.7154\n",
            "iteration 1100, loss = 0.5707\n",
            "iteration 1200, loss = 0.8192\n",
            "iteration 1300, loss = 0.5419\n",
            "iteration 1400, loss = 0.6765\n",
            "iteration 1500, loss = 0.6302\n",
            "epochs : 13 / 15\n",
            "Test set accuracy\n",
            "Correct : (7117 / 10000), Accuracy : (71.17)\n",
            "iteration 0, loss = 0.7594\n",
            "iteration 100, loss = 0.6392\n",
            "iteration 200, loss = 0.5459\n",
            "iteration 300, loss = 0.6030\n",
            "iteration 400, loss = 0.4592\n",
            "iteration 500, loss = 0.5295\n",
            "iteration 600, loss = 0.4413\n",
            "iteration 700, loss = 0.5983\n",
            "iteration 800, loss = 0.6961\n",
            "iteration 900, loss = 0.7797\n",
            "iteration 1000, loss = 0.4763\n",
            "iteration 1100, loss = 0.5231\n",
            "iteration 1200, loss = 0.5909\n",
            "iteration 1300, loss = 0.4099\n",
            "iteration 1400, loss = 0.8524\n",
            "iteration 1500, loss = 0.8732\n",
            "epochs : 14 / 15\n",
            "Test set accuracy\n",
            "Correct : (7207 / 10000), Accuracy : (72.07)\n",
            "iteration 0, loss = 0.1976\n",
            "iteration 100, loss = 0.5992\n",
            "iteration 200, loss = 0.2972\n",
            "iteration 300, loss = 0.6727\n",
            "iteration 400, loss = 0.3352\n",
            "iteration 500, loss = 0.2986\n",
            "iteration 600, loss = 0.8681\n",
            "iteration 700, loss = 0.8833\n",
            "iteration 800, loss = 0.5531\n",
            "iteration 900, loss = 0.2493\n",
            "iteration 1000, loss = 0.7015\n",
            "iteration 1100, loss = 0.4973\n",
            "iteration 1200, loss = 0.3550\n",
            "iteration 1300, loss = 0.6836\n",
            "iteration 1400, loss = 0.5246\n",
            "iteration 1500, loss = 0.5020\n"
          ]
        }
      ]
    },
    {
      "cell_type": "markdown",
      "source": [
        "### ResNet"
      ],
      "metadata": {
        "id": "UUYrueYuk28d"
      }
    },
    {
      "cell_type": "code",
      "source": [
        "learning_rate = 5e-3\n",
        "\n",
        "resnet = ResNet(5)\n",
        "optimizer_resnet = optim.SGD(resnet.parameters(), lr = learning_rate, momentum = 0.9, nesterov = True)"
      ],
      "metadata": {
        "id": "QwtzkmkuAD1y"
      },
      "execution_count": null,
      "outputs": []
    },
    {
      "cell_type": "code",
      "source": [
        "train_log_resnet = train(resnet, optimizer_resnet, loader_train, epochs = 15, verbose = True)"
      ],
      "metadata": {
        "colab": {
          "base_uri": "https://localhost:8080/"
        },
        "id": "wj8SHAVZASXx",
        "outputId": "a3f6a772-598c-420b-a562-758375ace7ec"
      },
      "execution_count": null,
      "outputs": [
        {
          "output_type": "stream",
          "name": "stdout",
          "text": [
            "epochs : 0 / 15\n",
            "Test set accuracy\n",
            "Correct : (1010 / 10000), Accuracy : (10.10)\n",
            "iteration 0, loss = 2.2500\n",
            "iteration 100, loss = 2.2571\n",
            "iteration 200, loss = 2.3221\n",
            "iteration 300, loss = 2.2457\n",
            "iteration 400, loss = 2.1920\n",
            "iteration 500, loss = 2.1054\n",
            "iteration 600, loss = 2.1281\n",
            "iteration 700, loss = 1.9463\n",
            "iteration 800, loss = 2.0114\n",
            "iteration 900, loss = 2.0296\n",
            "iteration 1000, loss = 1.8141\n",
            "iteration 1100, loss = 1.9057\n",
            "iteration 1200, loss = 1.6233\n",
            "iteration 1300, loss = 1.9273\n",
            "iteration 1400, loss = 1.7076\n",
            "iteration 1500, loss = 1.8081\n",
            "epochs : 1 / 15\n",
            "Test set accuracy\n",
            "Correct : (3972 / 10000), Accuracy : (39.72)\n",
            "iteration 0, loss = 1.4181\n",
            "iteration 100, loss = 1.7518\n",
            "iteration 200, loss = 1.4462\n",
            "iteration 300, loss = 1.3892\n",
            "iteration 400, loss = 1.7411\n",
            "iteration 500, loss = 1.5583\n",
            "iteration 600, loss = 1.3798\n",
            "iteration 700, loss = 1.5119\n",
            "iteration 800, loss = 1.2624\n",
            "iteration 900, loss = 1.4330\n",
            "iteration 1000, loss = 1.1345\n",
            "iteration 1100, loss = 1.1109\n",
            "iteration 1200, loss = 1.4315\n",
            "iteration 1300, loss = 1.4149\n",
            "iteration 1400, loss = 1.3175\n",
            "iteration 1500, loss = 1.3547\n",
            "epochs : 2 / 15\n",
            "Test set accuracy\n",
            "Correct : (5163 / 10000), Accuracy : (51.63)\n",
            "iteration 0, loss = 1.5786\n",
            "iteration 100, loss = 1.1159\n",
            "iteration 200, loss = 1.4023\n",
            "iteration 300, loss = 1.2859\n",
            "iteration 400, loss = 1.2479\n",
            "iteration 500, loss = 1.4347\n",
            "iteration 600, loss = 1.1518\n",
            "iteration 700, loss = 1.5656\n",
            "iteration 800, loss = 1.1712\n",
            "iteration 900, loss = 1.3729\n",
            "iteration 1000, loss = 1.2658\n",
            "iteration 1100, loss = 1.2339\n",
            "iteration 1200, loss = 1.0733\n",
            "iteration 1300, loss = 1.3245\n",
            "iteration 1400, loss = 1.0517\n",
            "iteration 1500, loss = 1.1643\n",
            "epochs : 3 / 15\n",
            "Test set accuracy\n",
            "Correct : (5884 / 10000), Accuracy : (58.84)\n",
            "iteration 0, loss = 1.2549\n",
            "iteration 100, loss = 1.4098\n",
            "iteration 200, loss = 1.1791\n",
            "iteration 300, loss = 1.1967\n",
            "iteration 400, loss = 0.9181\n",
            "iteration 500, loss = 0.9290\n",
            "iteration 600, loss = 1.2725\n",
            "iteration 700, loss = 1.0866\n",
            "iteration 800, loss = 1.1051\n",
            "iteration 900, loss = 0.9592\n",
            "iteration 1000, loss = 1.0409\n",
            "iteration 1100, loss = 0.7896\n",
            "iteration 1200, loss = 1.1599\n",
            "iteration 1300, loss = 0.8213\n",
            "iteration 1400, loss = 0.8817\n",
            "iteration 1500, loss = 1.0079\n",
            "epochs : 4 / 15\n",
            "Test set accuracy\n",
            "Correct : (6410 / 10000), Accuracy : (64.10)\n",
            "iteration 0, loss = 1.0766\n",
            "iteration 100, loss = 0.7565\n",
            "iteration 200, loss = 0.8527\n",
            "iteration 300, loss = 0.8442\n",
            "iteration 400, loss = 0.8977\n",
            "iteration 500, loss = 0.9455\n",
            "iteration 600, loss = 0.7178\n",
            "iteration 700, loss = 0.6606\n",
            "iteration 800, loss = 0.9467\n",
            "iteration 900, loss = 1.2874\n",
            "iteration 1000, loss = 1.0644\n",
            "iteration 1100, loss = 0.5793\n",
            "iteration 1200, loss = 0.9631\n",
            "iteration 1300, loss = 0.8281\n",
            "iteration 1400, loss = 0.8219\n",
            "iteration 1500, loss = 0.6279\n",
            "epochs : 5 / 15\n",
            "Test set accuracy\n",
            "Correct : (6688 / 10000), Accuracy : (66.88)\n",
            "iteration 0, loss = 0.6067\n",
            "iteration 100, loss = 0.7587\n",
            "iteration 200, loss = 0.9005\n",
            "iteration 300, loss = 0.5031\n",
            "iteration 400, loss = 0.5208\n",
            "iteration 500, loss = 0.7535\n",
            "iteration 600, loss = 0.8314\n",
            "iteration 700, loss = 0.7399\n",
            "iteration 800, loss = 0.7406\n",
            "iteration 900, loss = 0.9072\n",
            "iteration 1000, loss = 0.4723\n",
            "iteration 1100, loss = 0.8644\n",
            "iteration 1200, loss = 0.8020\n",
            "iteration 1300, loss = 0.6965\n",
            "iteration 1400, loss = 0.9709\n",
            "iteration 1500, loss = 0.7767\n",
            "epochs : 6 / 15\n",
            "Test set accuracy\n",
            "Correct : (6956 / 10000), Accuracy : (69.56)\n",
            "iteration 0, loss = 0.6186\n",
            "iteration 100, loss = 0.5668\n",
            "iteration 200, loss = 0.7946\n",
            "iteration 300, loss = 0.6257\n",
            "iteration 400, loss = 0.8339\n",
            "iteration 500, loss = 0.4917\n",
            "iteration 600, loss = 0.4791\n",
            "iteration 700, loss = 0.9543\n",
            "iteration 800, loss = 0.3899\n",
            "iteration 900, loss = 0.5247\n",
            "iteration 1000, loss = 0.6615\n",
            "iteration 1100, loss = 1.0096\n",
            "iteration 1200, loss = 0.6616\n",
            "iteration 1300, loss = 0.6342\n",
            "iteration 1400, loss = 0.5936\n",
            "iteration 1500, loss = 0.5348\n",
            "epochs : 7 / 15\n",
            "Test set accuracy\n",
            "Correct : (7294 / 10000), Accuracy : (72.94)\n",
            "iteration 0, loss = 0.4617\n",
            "iteration 100, loss = 0.5203\n",
            "iteration 200, loss = 0.5002\n",
            "iteration 300, loss = 0.7326\n",
            "iteration 400, loss = 0.5716\n",
            "iteration 500, loss = 0.4192\n",
            "iteration 600, loss = 0.7400\n",
            "iteration 700, loss = 0.4402\n",
            "iteration 800, loss = 0.6184\n",
            "iteration 900, loss = 0.7449\n",
            "iteration 1000, loss = 0.3416\n",
            "iteration 1100, loss = 0.4640\n",
            "iteration 1200, loss = 0.6886\n",
            "iteration 1300, loss = 0.5735\n",
            "iteration 1400, loss = 0.5526\n",
            "iteration 1500, loss = 0.5663\n",
            "epochs : 8 / 15\n",
            "Test set accuracy\n",
            "Correct : (7308 / 10000), Accuracy : (73.08)\n",
            "iteration 0, loss = 0.7771\n",
            "iteration 100, loss = 0.3218\n",
            "iteration 200, loss = 0.5352\n",
            "iteration 300, loss = 0.7348\n",
            "iteration 400, loss = 0.3372\n",
            "iteration 500, loss = 0.5209\n",
            "iteration 600, loss = 0.3846\n",
            "iteration 700, loss = 0.8936\n",
            "iteration 800, loss = 0.8480\n",
            "iteration 900, loss = 0.4056\n",
            "iteration 1000, loss = 0.5699\n",
            "iteration 1100, loss = 0.4221\n",
            "iteration 1200, loss = 0.4898\n",
            "iteration 1300, loss = 0.6440\n",
            "iteration 1400, loss = 0.3562\n",
            "iteration 1500, loss = 0.4122\n",
            "epochs : 9 / 15\n",
            "Test set accuracy\n",
            "Correct : (7273 / 10000), Accuracy : (72.73)\n",
            "iteration 0, loss = 0.2677\n",
            "iteration 100, loss = 0.6943\n",
            "iteration 200, loss = 0.2669\n",
            "iteration 300, loss = 0.3924\n",
            "iteration 400, loss = 0.4404\n",
            "iteration 500, loss = 0.5356\n",
            "iteration 600, loss = 0.3732\n",
            "iteration 700, loss = 0.7633\n",
            "iteration 800, loss = 0.3534\n",
            "iteration 900, loss = 0.4189\n",
            "iteration 1000, loss = 0.5556\n",
            "iteration 1100, loss = 0.5595\n",
            "iteration 1200, loss = 0.6401\n",
            "iteration 1300, loss = 0.3169\n",
            "iteration 1400, loss = 0.3685\n",
            "iteration 1500, loss = 0.4418\n",
            "epochs : 10 / 15\n",
            "Test set accuracy\n",
            "Correct : (7281 / 10000), Accuracy : (72.81)\n",
            "iteration 0, loss = 0.3427\n",
            "iteration 100, loss = 0.2731\n",
            "iteration 200, loss = 0.6705\n",
            "iteration 300, loss = 0.1884\n",
            "iteration 400, loss = 0.2467\n",
            "iteration 500, loss = 0.3158\n",
            "iteration 600, loss = 0.5207\n",
            "iteration 700, loss = 0.3193\n",
            "iteration 800, loss = 0.3462\n",
            "iteration 900, loss = 0.5998\n",
            "iteration 1000, loss = 0.2797\n",
            "iteration 1100, loss = 0.2532\n",
            "iteration 1200, loss = 0.3910\n",
            "iteration 1300, loss = 0.5842\n",
            "iteration 1400, loss = 0.1745\n",
            "iteration 1500, loss = 0.3784\n",
            "epochs : 11 / 15\n",
            "Test set accuracy\n",
            "Correct : (7384 / 10000), Accuracy : (73.84)\n",
            "iteration 0, loss = 0.2489\n",
            "iteration 100, loss = 0.2110\n",
            "iteration 200, loss = 0.2409\n",
            "iteration 300, loss = 0.2727\n",
            "iteration 400, loss = 0.3406\n",
            "iteration 500, loss = 0.2064\n",
            "iteration 600, loss = 0.2706\n",
            "iteration 700, loss = 0.4320\n",
            "iteration 800, loss = 0.4791\n",
            "iteration 900, loss = 0.3832\n",
            "iteration 1000, loss = 0.2891\n",
            "iteration 1100, loss = 0.1684\n",
            "iteration 1200, loss = 0.1917\n",
            "iteration 1300, loss = 0.3625\n",
            "iteration 1400, loss = 0.2624\n",
            "iteration 1500, loss = 0.3313\n",
            "epochs : 12 / 15\n",
            "Test set accuracy\n",
            "Correct : (7374 / 10000), Accuracy : (73.74)\n",
            "iteration 0, loss = 0.2045\n",
            "iteration 100, loss = 0.1036\n",
            "iteration 200, loss = 0.1048\n",
            "iteration 300, loss = 0.0431\n",
            "iteration 400, loss = 0.3046\n",
            "iteration 500, loss = 0.4493\n",
            "iteration 600, loss = 0.1350\n",
            "iteration 700, loss = 0.1472\n",
            "iteration 800, loss = 0.3511\n",
            "iteration 900, loss = 0.3599\n",
            "iteration 1000, loss = 0.3573\n",
            "iteration 1100, loss = 0.3470\n",
            "iteration 1200, loss = 0.2867\n",
            "iteration 1300, loss = 0.1312\n",
            "iteration 1400, loss = 0.3195\n",
            "iteration 1500, loss = 0.2277\n",
            "epochs : 13 / 15\n",
            "Test set accuracy\n",
            "Correct : (7401 / 10000), Accuracy : (74.01)\n",
            "iteration 0, loss = 0.2702\n",
            "iteration 100, loss = 0.2112\n",
            "iteration 200, loss = 0.0800\n",
            "iteration 300, loss = 0.0991\n",
            "iteration 400, loss = 0.2998\n",
            "iteration 500, loss = 0.1557\n",
            "iteration 600, loss = 0.1759\n",
            "iteration 700, loss = 0.2069\n",
            "iteration 800, loss = 0.2228\n",
            "iteration 900, loss = 0.2373\n",
            "iteration 1000, loss = 0.3365\n",
            "iteration 1100, loss = 0.2490\n",
            "iteration 1200, loss = 0.1801\n",
            "iteration 1300, loss = 0.1785\n",
            "iteration 1400, loss = 0.0797\n",
            "iteration 1500, loss = 0.2060\n",
            "epochs : 14 / 15\n",
            "Test set accuracy\n",
            "Correct : (7374 / 10000), Accuracy : (73.74)\n",
            "iteration 0, loss = 0.2100\n",
            "iteration 100, loss = 0.0357\n",
            "iteration 200, loss = 0.0359\n",
            "iteration 300, loss = 0.1208\n",
            "iteration 400, loss = 0.0345\n",
            "iteration 500, loss = 0.1000\n",
            "iteration 600, loss = 0.1787\n",
            "iteration 700, loss = 0.1259\n",
            "iteration 800, loss = 0.1371\n",
            "iteration 900, loss = 0.2222\n",
            "iteration 1000, loss = 0.6223\n",
            "iteration 1100, loss = 0.1085\n",
            "iteration 1200, loss = 0.6402\n",
            "iteration 1300, loss = 0.0492\n",
            "iteration 1400, loss = 0.3901\n",
            "iteration 1500, loss = 0.3411\n"
          ]
        }
      ]
    },
    {
      "cell_type": "markdown",
      "source": [
        "### Visualize"
      ],
      "metadata": {
        "id": "IeZlKSLgk7tO"
      }
    },
    {
      "cell_type": "code",
      "source": [
        "plot_loss(train_log_resnet['loss'], 'resnet')\n",
        "plot_loss(train_log_plain['loss'], 'plain')"
      ],
      "metadata": {
        "colab": {
          "base_uri": "https://localhost:8080/",
          "height": 279
        },
        "id": "8DdyPDSnG1UE",
        "outputId": "7a6a5971-f57f-4dec-d64c-968a8a35a563"
      },
      "execution_count": null,
      "outputs": [
        {
          "output_type": "display_data",
          "data": {
            "image/png": "[encoded data removed]",
            "text/plain": [
              "<Figure size 432x288 with 1 Axes>"
            ]
          },
          "metadata": {
            "needs_background": "light"
          }
        }
      ]
    },
    {
      "cell_type": "code",
      "source": [
        "plot_acc(train_log_resnet['acc'], 'resnet')\n",
        "plot_acc(train_log_plain['acc'], 'plain')"
      ],
      "metadata": {
        "id": "iz4FjVNqjz6S",
        "colab": {
          "base_uri": "https://localhost:8080/",
          "height": 279
        },
        "outputId": "c33c83ac-89b3-492f-9a24-df672d208e77"
      },
      "execution_count": null,
      "outputs": [
        {
          "output_type": "display_data",
          "data": {
            "image/png": "[encoded data removed]",
            "text/plain": [
              "<Figure size 432x288 with 1 Axes>"
            ]
          },
          "metadata": {
            "needs_background": "light"
          }
        }
      ]
    }
  ]
}
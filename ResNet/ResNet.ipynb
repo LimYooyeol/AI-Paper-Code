{
  "nbformat": 4,
  "nbformat_minor": 0,
  "metadata": {
    "colab": {
      "name": "ResNet.ipynb",
      "provenance": [],
      "collapsed_sections": [],
      "toc_visible": true,
      "authorship_tag": "ABX9TyMxEtLDXWplv+Oq8C7weKO4",
      "include_colab_link": true
    },
    "kernelspec": {
      "name": "python3",
      "display_name": "Python 3"
    },
    "language_info": {
      "name": "python"
    },
    "accelerator": "GPU"
  },
  "cells": [
    {
      "cell_type": "markdown",
      "metadata": {
        "id": "view-in-github",
        "colab_type": "text"
      },
      "source": [
        "<a href=\"https://colab.research.google.com/github/LimYooyeol/AI-Paper-Code/blob/main/ResNet/ResNet.ipynb\" target=\"_parent\"><img src=\"https://colab.research.google.com/assets/colab-badge.svg\" alt=\"Open In Colab\"/></a>"
      ]
    },
    {
      "cell_type": "code",
      "source": [
        "from google.colab import drive\n",
        "drive.mount('/content/drive')\n",
        "\n",
        "BASE = '/content/drive/My Drive/Paper Implementation/'\n",
        "\n",
        "%cd $BASE\n",
        "\n",
        "%pwd"
      ],
      "metadata": {
        "colab": {
          "base_uri": "https://localhost:8080/",
          "height": 72
        },
        "id": "DNO8fe3qCFv8",
        "outputId": "61153784-9bdf-45f2-e951-d134d3479afc"
      },
      "execution_count": 2,
      "outputs": [
        {
          "output_type": "stream",
          "name": "stdout",
          "text": [
            "Drive already mounted at /content/drive; to attempt to forcibly remount, call drive.mount(\"/content/drive\", force_remount=True).\n",
            "/content/drive/My Drive/Paper Implementation\n"
          ]
        },
        {
          "output_type": "execute_result",
          "data": {
            "application/vnd.google.colaboratory.intrinsic+json": {
              "type": "string"
            },
            "text/plain": [
              "'/content/drive/My Drive/Paper Implementation'"
            ]
          },
          "metadata": {},
          "execution_count": 2
        }
      ]
    },
    {
      "cell_type": "code",
      "execution_count": 3,
      "metadata": {
        "id": "p5nqSudos0ZM"
      },
      "outputs": [],
      "source": [
        "import torch\n",
        "import torch.nn as nn\n",
        "import torch.optim as optim\n",
        "\n",
        "import torch.nn.functional as F\n",
        "\n",
        "from torch.utils.data import DataLoader\n",
        "from torch.utils.data import sampler\n",
        "\n",
        "import torchvision.datasets as dset\n",
        "import torchvision.transforms as T\n",
        "\n",
        "import numpy as np\n",
        "\n",
        "import os"
      ]
    },
    {
      "cell_type": "markdown",
      "source": [
        "## Prepare Data (CIFAR 10)"
      ],
      "metadata": {
        "id": "NxPQMABu_-sv"
      }
    },
    {
      "cell_type": "markdown",
      "source": [
        "### load data"
      ],
      "metadata": {
        "id": "ltqZtYtsX4vn"
      }
    },
    {
      "cell_type": "code",
      "source": [
        "DATAPATH = BASE + 'datasets'\n",
        "if not os.path.exists(DATAPATH):\n",
        "  os.mkdir(DATAPATH)\n",
        "\n",
        "# set device\n",
        "if torch.cuda.is_available() :\n",
        "  device = torch.device('cuda')\n",
        "else:\n",
        "  device = torch.device('cpu')\n",
        "\n",
        "\n",
        "transform = T.Compose([\n",
        "                       T.ToTensor(),\n",
        "                       T.Normalize((0.4914, 0.4822, 0.4465), (0.247, 0.243, 0.261))\n",
        "    ])\n",
        "\n",
        "\n",
        "# load data\n",
        "train_data = dset.CIFAR10('./datasets', train = True, download = True, transform = transform)\n",
        "loader_train = DataLoader(train_data, batch_size = 32, shuffle= True) # no validation set\n",
        "\n",
        "test_data = dset.CIFAR10('./datasets', train = False, download = True, transform= transform)\n",
        "loader_test = DataLoader(test_data, batch_size = 32, shuffle = True)"
      ],
      "metadata": {
        "colab": {
          "base_uri": "https://localhost:8080/"
        },
        "id": "4pvvrN2-36Ye",
        "outputId": "c13ebd9d-f243-4fc3-8d68-0fabc93cb4bf"
      },
      "execution_count": 4,
      "outputs": [
        {
          "output_type": "stream",
          "name": "stdout",
          "text": [
            "Files already downloaded and verified\n",
            "Files already downloaded and verified\n"
          ]
        }
      ]
    },
    {
      "cell_type": "markdown",
      "source": [
        "### show an image"
      ],
      "metadata": {
        "id": "oCiWd-wcXkjK"
      }
    },
    {
      "cell_type": "code",
      "source": [
        "import matplotlib.pyplot as plt\n",
        "\n",
        "_, label = train_data[0]\n",
        "img = train_data.data[0]\n",
        "plt.imshow(img)\n",
        "plt.show()\n",
        "print(label)\n",
        "train_data.classes[label]"
      ],
      "metadata": {
        "colab": {
          "base_uri": "https://localhost:8080/",
          "height": 302
        },
        "id": "PXz0w4zYJV3I",
        "outputId": "59b09d9b-a94d-4abc-e6e0-e6c1c24bbb25"
      },
      "execution_count": 5,
      "outputs": [
        {
          "output_type": "display_data",
          "data": {
            "image/png": "[encoded data removed]",
            "text/plain": [
              "<Figure size 432x288 with 1 Axes>"
            ]
          },
          "metadata": {
            "needs_background": "light"
          }
        },
        {
          "output_type": "stream",
          "name": "stdout",
          "text": [
            "6\n"
          ]
        },
        {
          "output_type": "execute_result",
          "data": {
            "application/vnd.google.colaboratory.intrinsic+json": {
              "type": "string"
            },
            "text/plain": [
              "'frog'"
            ]
          },
          "metadata": {},
          "execution_count": 5
        }
      ]
    },
    {
      "cell_type": "markdown",
      "source": [
        "## Define Training Loop"
      ],
      "metadata": {
        "id": "5CXT4RTzxvwU"
      }
    },
    {
      "cell_type": "markdown",
      "source": [
        "Referenced a lot from cs231n/assignment2 a lot for this part\n",
        "(# https://cs231n.github.io/assignments2021/assignment2/)"
      ],
      "metadata": {
        "id": "62XNtfDRZVSF"
      }
    },
    {
      "cell_type": "markdown",
      "source": [
        "### Calculate Accuracy"
      ],
      "metadata": {
        "id": "niQT0pmqXtm_"
      }
    },
    {
      "cell_type": "code",
      "source": [
        "def check_accuracy(data_loader, model, verbose = True) :\n",
        "\n",
        "  if verbose :\n",
        "    if data_loader.dataset.train :\n",
        "      print('Train set accurcy')\n",
        "    else :\n",
        "      print('Test set accuracy')\n",
        "\n",
        "  num_correct = 0\n",
        "  num_total = 0\n",
        "  model.eval() # evaluation mode\n",
        "\n",
        "  with torch.no_grad() :\n",
        "    for x, y in data_loader :\n",
        "      x = x.to(device = device)\n",
        "      y = y.to(device = device)\n",
        "\n",
        "      scores = model(x)\n",
        "\n",
        "      _, preds = scores.max(1)\n",
        "      num_correct += (preds == y).sum()\n",
        "      num_total += preds.size(0)\n",
        "    \n",
        "    acc = float(num_correct) / num_total\n",
        "    if verbose :\n",
        "      print('Correct : (%d / %d), Accuracy : (%.2f)' % (num_correct, num_total, 100*acc))\n",
        "\n",
        "  return 100*acc"
      ],
      "metadata": {
        "id": "zNbcznX_106t"
      },
      "execution_count": 31,
      "outputs": []
    },
    {
      "cell_type": "markdown",
      "source": [
        "### Training Loop"
      ],
      "metadata": {
        "id": "4Gd2Qx4SXyCi"
      }
    },
    {
      "cell_type": "code",
      "source": [
        "def train(model, optimizer, data_loader, epochs = 1, verbose = True):\n",
        "  model = model.to(device = device)\n",
        "\n",
        "  log = {'loss' : [], 'acc' : []}\n",
        "\n",
        "  for e in range(epochs):\n",
        "    if verbose : \n",
        "      print('epochs : %d / %d' % (e, epochs))\n",
        "    log['acc'].append(check_accuracy(loader_test, model, verbose = verbose))\n",
        "    \n",
        "    for t, (x, y) in enumerate(data_loader) :\n",
        "      model.train() # training mode\n",
        "      x = x.to(device = device)\n",
        "      y = y.to(device = device)\n",
        "\n",
        "      scores = model(x)\n",
        "      loss = F.cross_entropy(scores, y)\n",
        "\n",
        "      optimizer.zero_grad()\n",
        "\n",
        "      loss.backward()\n",
        "\n",
        "      optimizer.step()\n",
        "\n",
        "\n",
        "      if t % 100 == 0 :\n",
        "        log['loss'].append(loss)\n",
        "        if verbose :\n",
        "          print('iteration %d, loss = %.4f' % (t, loss.item()))\n",
        "  \n",
        "  return log"
      ],
      "metadata": {
        "id": "hQYOvEs2xzvR"
      },
      "execution_count": 35,
      "outputs": []
    },
    {
      "cell_type": "markdown",
      "source": [
        "## Modules"
      ],
      "metadata": {
        "id": "pIkkaQ6vaxdJ"
      }
    },
    {
      "cell_type": "markdown",
      "source": [
        "### Flatten"
      ],
      "metadata": {
        "id": "MQO0_Im8a41B"
      }
    },
    {
      "cell_type": "code",
      "source": [
        "def flatten(x) :\n",
        "  N = x.shape[0]\n",
        "  return x.view(N, -1)\n",
        "\n",
        "class Flatten(nn.Module) :\n",
        "  def forward(self,x ):\n",
        "    return flatten(x)"
      ],
      "metadata": {
        "id": "V_mBE6SnxoNW"
      },
      "execution_count": 8,
      "outputs": []
    },
    {
      "cell_type": "markdown",
      "source": [
        "### Plain-Net"
      ],
      "metadata": {
        "id": "A8H_rBKEa7c9"
      }
    },
    {
      "cell_type": "code",
      "source": [
        "# Conv-BN-ReLU\n",
        "class ConvReLU(nn.Module) :\n",
        "  def __init__(self, in_channel, out_channel, stride = 1, padding = 1) :\n",
        "    super().__init__()\n",
        "\n",
        "    self.conv = nn.Conv2d(in_channel, out_channel, kernel_size = 3, stride = stride, padding = padding, bias = False)\n",
        "    self.BN = nn.BatchNorm2d(out_channel)\n",
        "    self.relu = nn.ReLU()\n",
        "\n",
        "  def forward(self, x) :\n",
        "    x = self.conv(x)\n",
        "    x = self.BN(x)\n",
        "    x = self.relu(x)\n",
        "\n",
        "    return x"
      ],
      "metadata": {
        "id": "lEsL0XvaC52R"
      },
      "execution_count": 9,
      "outputs": []
    },
    {
      "cell_type": "code",
      "source": [
        "# Block consists of 2*n ConvReLU modules\n",
        "class Feature_Block_Plain(nn.Module) :\n",
        "  def __init__(self, in_channel, out_channel, n, feature_reduce = False) :\n",
        "    super().__init__()\n",
        "\n",
        "    self.n = n\n",
        "\n",
        "    if feature_reduce : \n",
        "      stride = 2\n",
        "    else :\n",
        "      stride = 1\n",
        "\n",
        "    layers = [ConvReLU(in_channel, out_channel, stride = stride, padding = 1)]\n",
        "\n",
        "    for i in range(0, 2*n - 1):\n",
        "      layers.append( ConvReLU(out_channel, out_channel, padding = 1))\n",
        "    \n",
        "    self.layers = nn.ModuleList(layers)\n",
        "\n",
        "  def forward(self, x) :\n",
        "    for i in range(0, 2*self.n) :\n",
        "      x = self.layers[i](x)\n",
        "\n",
        "    return x\n"
      ],
      "metadata": {
        "id": "5HCfPdYsB23b"
      },
      "execution_count": 10,
      "outputs": []
    },
    {
      "cell_type": "code",
      "source": [
        "# Plain Net\n",
        "class Plain_Net(nn.Module) :\n",
        "  def __init__(self, n) :\n",
        "    super().__init__()\n",
        "\n",
        "    self.init_layer = nn.Sequential(\n",
        "        nn.Conv2d(3, 16, kernel_size = 3, padding = 1, bias = False),\n",
        "        nn.BatchNorm2d(16),\n",
        "        nn.ReLU()\n",
        "    )\n",
        "    \n",
        "    self.FB1 = Feature_Block_Plain(16, 16, n)\n",
        "    self.FB2 = Feature_Block_Plain(16, 32, n, feature_reduce = True)\n",
        "    self.FB3 = Feature_Block_Plain(32, 64, n, feature_reduce = True)\n",
        "\n",
        "    self.FC = nn.Sequential(\n",
        "        nn.AvgPool2d(kernel_size = 2, stride = 2),\n",
        "        Flatten(),\n",
        "        nn.Linear(4*4*64, 10)\n",
        "    )\n",
        "\n",
        "  def forward(self, x):\n",
        "    x = self.init_layer(x)\n",
        "    x = self.FB3(self.FB2(self.FB1(x)))\n",
        "    x = self.FC(x)\n",
        "\n",
        "    return x\n"
      ],
      "metadata": {
        "id": "5Gq07pwjFFpW"
      },
      "execution_count": 11,
      "outputs": []
    },
    {
      "cell_type": "markdown",
      "source": [
        "### ResNet"
      ],
      "metadata": {
        "id": "hhDvb_5RjpTE"
      }
    },
    {
      "cell_type": "code",
      "source": [
        "# Basic residual block consists of pair of convolution layer\n",
        "class Residual_Block(nn.Module) :\n",
        "  def __init__(self, in_channel, out_channel, feature_reduce = False) :\n",
        "    super().__init__()\n",
        "\n",
        "    self.feature_reduce = feature_reduce\n",
        "\n",
        "    if feature_reduce :\n",
        "      stride = 2\n",
        "    else : \n",
        "      stride = 1\n",
        "\n",
        "    self.Conv = nn.Sequential(\n",
        "        nn.Conv2d(in_channel, out_channel, kernel_size = 3, stride = stride, padding = 1, bias = False), \n",
        "        nn.BatchNorm2d(out_channel),\n",
        "        nn.ReLU(),\n",
        "        nn.Conv2d(out_channel, out_channel, kernel_size = 3, padding = 1, bias =  False),\n",
        "        nn.BatchNorm2d(out_channel)\n",
        "    )\n",
        "\n",
        "    if feature_reduce :\n",
        "      self.shortcut = nn.Sequential(\n",
        "          # reduce feature map by pooling (No more parameters, option (A))\n",
        "          nn.MaxPool2d(kernel_size = 2, stride = 2)\n",
        "      )\n",
        "    else :\n",
        "      self.shortcut = nn.Identity()\n",
        "\n",
        "  def forward(self, x) :\n",
        "    x_prev = self.shortcut(x)\n",
        "    \n",
        "    if self.feature_reduce :\n",
        "      # zero padding for dimension matching\n",
        "      concat = torch.zeros_like(x_prev)\n",
        "      x_prev = torch.concat((x_prev, concat), axis = 1)\n",
        "    else :\n",
        "      x_prev = x_prev\n",
        "\n",
        "    F_x = self.Conv(x)\n",
        "\n",
        "    return F.relu(F_x + x_prev)\n"
      ],
      "metadata": {
        "id": "qpyLrpcljsoU"
      },
      "execution_count": 12,
      "outputs": []
    },
    {
      "cell_type": "code",
      "source": [
        "# Block consists of n residual blocks\n",
        "class Feature_Block(nn.Module) :\n",
        "  def __init__(self, in_channel, out_channel, n, feature_reduce = False) :\n",
        "    super().__init__()\n",
        "    self.n = n\n",
        "\n",
        "    residual_blocks = [Residual_Block(in_channel, out_channel, feature_reduce = feature_reduce)]\n",
        "\n",
        "    for i in range(0, n-1) :\n",
        "      residual_blocks.append(Residual_Block(out_channel, out_channel))\n",
        "    \n",
        "    self.residual_blocks = nn.ModuleList(residual_blocks)\n",
        "\n",
        "  def forward(self, x) :\n",
        "    for i in range(0, self.n) :\n",
        "      x = self.residual_blocks[i](x)\n",
        "\n",
        "    return x      "
      ],
      "metadata": {
        "id": "IzScF6bSpbpT"
      },
      "execution_count": 13,
      "outputs": []
    },
    {
      "cell_type": "code",
      "source": [
        "# ResNet\n",
        "class ResNet(nn.Module) :\n",
        "  def __init__(self, n) :\n",
        "    super().__init__()\n",
        "\n",
        "    self.init_layer = nn.Sequential(\n",
        "        nn.Conv2d(3, 16, kernel_size = 3, padding = 1, bias = False),\n",
        "        nn.BatchNorm2d(16),\n",
        "        nn.ReLU()\n",
        "    )\n",
        "\n",
        "    self.Feature_Block1 = Feature_Block(16, 16, n)\n",
        "\n",
        "    self.Feature_Block2 = Feature_Block(16, 32, n, feature_reduce = True)\n",
        "\n",
        "    self.Feature_Block3 = Feature_Block(32, 64, n, feature_reduce = True)\n",
        "\n",
        "    self.FC = nn.Sequential(\n",
        "        nn.AvgPool2d(kernel_size = 2, stride = 2),\n",
        "        Flatten(),\n",
        "        nn.Linear(4*4*64, 10)\n",
        "    )\n",
        "\n",
        "  def forward(self, x) :\n",
        "    x = self.init_layer(x)\n",
        "    x = self.Feature_Block1(x)\n",
        "    x = self.Feature_Block2(x)\n",
        "    x = self.Feature_Block3(x)\n",
        "    x = self.FC(x)\n",
        "\n",
        "    return x"
      ],
      "metadata": {
        "id": "Tcqa2KkV3D2a"
      },
      "execution_count": 14,
      "outputs": []
    },
    {
      "cell_type": "markdown",
      "source": [
        "## Train"
      ],
      "metadata": {
        "id": "aQzcgnlx28kx"
      }
    },
    {
      "cell_type": "code",
      "source": [
        "def plot_loss(loss, label) :\n",
        "  plt.xlabel('iterations(1e2)')\n",
        "  plt.ylabel('training loss')\n",
        "\n",
        "  plt.plot(loss, label = label)\n",
        "  plt.legend()"
      ],
      "metadata": {
        "id": "GEc5Qr7ucrBK"
      },
      "execution_count": 15,
      "outputs": []
    },
    {
      "cell_type": "code",
      "source": [
        "def plot_acc(acc, label) :\n",
        "  plt.xlabel('epochs')\n",
        "  plt.ylabel('accuracy(test data)')\n",
        "\n",
        "  plt.plot(acc, label = label)\n",
        "  plt.legend()"
      ],
      "metadata": {
        "id": "jDtib7P9lBxz"
      },
      "execution_count": 16,
      "outputs": []
    },
    {
      "cell_type": "markdown",
      "source": [
        "### Plain-Net"
      ],
      "metadata": {
        "id": "FP73kS2okvOI"
      }
    },
    {
      "cell_type": "code",
      "source": [
        "learning_rate = 5e-3\n",
        "\n",
        "plain = Plain_Net(5)\n",
        "optimizer_plain = optim.SGD(plain.parameters(), lr = learning_rate, momentum = 0.9, nesterov = True)"
      ],
      "metadata": {
        "id": "qxN2OJN4BDbK"
      },
      "execution_count": 25,
      "outputs": []
    },
    {
      "cell_type": "code",
      "source": [
        "train_log_plain = train(plain, optimizer_plain, loader_train, epochs = 25, verbose = True)"
      ],
      "metadata": {
        "colab": {
          "base_uri": "https://localhost:8080/"
        },
        "id": "LPjiQPzjlduQ",
        "outputId": "141800ce-947c-43a4-9133-4276e1c59abf"
      },
      "execution_count": 26,
      "outputs": [
        {
          "output_type": "stream",
          "name": "stdout",
          "text": [
            "epochs : 0 / 25\n",
            "Test set accuracy\n",
            "Correct : (1000 / 10000), Accuracy : (10.00)\n",
            "iteration 0, loss = 2.2997\n",
            "iteration 100, loss = 2.1085\n",
            "iteration 200, loss = 1.9418\n",
            "iteration 300, loss = 2.1252\n",
            "iteration 400, loss = 1.9445\n",
            "iteration 500, loss = 1.7257\n",
            "iteration 600, loss = 1.7416\n",
            "iteration 700, loss = 1.9898\n",
            "iteration 800, loss = 1.6339\n",
            "iteration 900, loss = 1.8304\n",
            "iteration 1000, loss = 1.5380\n",
            "iteration 1100, loss = 1.7312\n",
            "iteration 1200, loss = 1.8437\n",
            "iteration 1300, loss = 1.7910\n",
            "iteration 1400, loss = 1.4318\n",
            "iteration 1500, loss = 1.7857\n",
            "epochs : 1 / 25\n",
            "Test set accuracy\n",
            "Correct : (3970 / 10000), Accuracy : (39.70)\n",
            "iteration 0, loss = 1.5008\n",
            "iteration 100, loss = 1.3940\n",
            "iteration 200, loss = 1.8897\n",
            "iteration 300, loss = 1.8657\n",
            "iteration 400, loss = 1.5764\n",
            "iteration 500, loss = 1.7326\n",
            "iteration 600, loss = 1.7629\n",
            "iteration 700, loss = 1.7251\n",
            "iteration 800, loss = 1.8061\n",
            "iteration 900, loss = 1.4476\n",
            "iteration 1000, loss = 1.6424\n",
            "iteration 1100, loss = 1.2815\n",
            "iteration 1200, loss = 1.5859\n",
            "iteration 1300, loss = 1.6612\n",
            "iteration 1400, loss = 1.5207\n",
            "iteration 1500, loss = 1.5800\n",
            "epochs : 2 / 25\n",
            "Test set accuracy\n",
            "Correct : (4765 / 10000), Accuracy : (47.65)\n",
            "iteration 0, loss = 1.3093\n",
            "iteration 100, loss = 1.0905\n",
            "iteration 200, loss = 1.6661\n",
            "iteration 300, loss = 1.3466\n",
            "iteration 400, loss = 1.2758\n",
            "iteration 500, loss = 1.7825\n",
            "iteration 600, loss = 1.4038\n",
            "iteration 700, loss = 1.5604\n",
            "iteration 800, loss = 1.0510\n",
            "iteration 900, loss = 1.2627\n",
            "iteration 1000, loss = 1.3005\n",
            "iteration 1100, loss = 1.2616\n",
            "iteration 1200, loss = 1.2410\n",
            "iteration 1300, loss = 1.1829\n",
            "iteration 1400, loss = 1.4151\n",
            "iteration 1500, loss = 1.1518\n",
            "epochs : 3 / 25\n",
            "Test set accuracy\n",
            "Correct : (5371 / 10000), Accuracy : (53.71)\n",
            "iteration 0, loss = 1.1852\n",
            "iteration 100, loss = 1.6103\n",
            "iteration 200, loss = 1.3611\n",
            "iteration 300, loss = 1.2707\n",
            "iteration 400, loss = 1.6270\n",
            "iteration 500, loss = 1.2034\n",
            "iteration 600, loss = 1.3174\n",
            "iteration 700, loss = 1.0514\n",
            "iteration 800, loss = 1.1480\n",
            "iteration 900, loss = 1.2205\n",
            "iteration 1000, loss = 0.9277\n",
            "iteration 1100, loss = 1.2588\n",
            "iteration 1200, loss = 1.3858\n",
            "iteration 1300, loss = 1.1437\n",
            "iteration 1400, loss = 1.5603\n",
            "iteration 1500, loss = 1.2000\n",
            "epochs : 4 / 25\n",
            "Test set accuracy\n",
            "Correct : (5831 / 10000), Accuracy : (58.31)\n",
            "iteration 0, loss = 1.0901\n",
            "iteration 100, loss = 1.0840\n",
            "iteration 200, loss = 0.7888\n",
            "iteration 300, loss = 1.0919\n",
            "iteration 400, loss = 0.9317\n",
            "iteration 500, loss = 1.3531\n",
            "iteration 600, loss = 1.2367\n",
            "iteration 700, loss = 0.8160\n",
            "iteration 800, loss = 0.8560\n",
            "iteration 900, loss = 1.1537\n",
            "iteration 1000, loss = 1.2092\n",
            "iteration 1100, loss = 1.1732\n",
            "iteration 1200, loss = 1.2531\n",
            "iteration 1300, loss = 0.9916\n",
            "iteration 1400, loss = 1.1900\n",
            "iteration 1500, loss = 0.8929\n",
            "epochs : 5 / 25\n",
            "Test set accuracy\n",
            "Correct : (6305 / 10000), Accuracy : (63.05)\n",
            "iteration 0, loss = 1.1212\n",
            "iteration 100, loss = 0.8837\n",
            "iteration 200, loss = 0.9731\n",
            "iteration 300, loss = 1.0196\n",
            "iteration 400, loss = 0.6718\n",
            "iteration 500, loss = 0.6561\n",
            "iteration 600, loss = 0.9462\n",
            "iteration 700, loss = 0.8258\n",
            "iteration 800, loss = 0.9044\n",
            "iteration 900, loss = 0.9886\n",
            "iteration 1000, loss = 1.0879\n",
            "iteration 1100, loss = 0.7138\n",
            "iteration 1200, loss = 0.9490\n",
            "iteration 1300, loss = 1.0887\n",
            "iteration 1400, loss = 0.8964\n",
            "iteration 1500, loss = 0.9646\n",
            "epochs : 6 / 25\n",
            "Test set accuracy\n",
            "Correct : (6650 / 10000), Accuracy : (66.50)\n",
            "iteration 0, loss = 0.7146\n",
            "iteration 100, loss = 0.9995\n",
            "iteration 200, loss = 0.7860\n",
            "iteration 300, loss = 0.8654\n",
            "iteration 400, loss = 1.0148\n",
            "iteration 500, loss = 1.0531\n",
            "iteration 600, loss = 0.7085\n",
            "iteration 700, loss = 1.1419\n",
            "iteration 800, loss = 0.7368\n",
            "iteration 900, loss = 0.7500\n",
            "iteration 1000, loss = 0.8461\n",
            "iteration 1100, loss = 0.9586\n",
            "iteration 1200, loss = 0.9825\n",
            "iteration 1300, loss = 1.0437\n",
            "iteration 1400, loss = 1.3444\n",
            "iteration 1500, loss = 0.8614\n",
            "epochs : 7 / 25\n",
            "Test set accuracy\n",
            "Correct : (6868 / 10000), Accuracy : (68.68)\n",
            "iteration 0, loss = 0.9160\n",
            "iteration 100, loss = 0.7577\n",
            "iteration 200, loss = 1.1454\n",
            "iteration 300, loss = 0.7408\n",
            "iteration 400, loss = 0.7469\n",
            "iteration 500, loss = 0.7664\n",
            "iteration 600, loss = 1.0296\n",
            "iteration 700, loss = 0.5511\n",
            "iteration 800, loss = 0.8779\n",
            "iteration 900, loss = 0.7598\n",
            "iteration 1000, loss = 0.7836\n",
            "iteration 1100, loss = 0.6396\n",
            "iteration 1200, loss = 0.8206\n",
            "iteration 1300, loss = 0.5890\n",
            "iteration 1400, loss = 0.6940\n",
            "iteration 1500, loss = 1.2325\n",
            "epochs : 8 / 25\n",
            "Test set accuracy\n",
            "Correct : (6859 / 10000), Accuracy : (68.59)\n",
            "iteration 0, loss = 0.6226\n",
            "iteration 100, loss = 0.6713\n",
            "iteration 200, loss = 1.0378\n",
            "iteration 300, loss = 0.6467\n",
            "iteration 400, loss = 0.9942\n",
            "iteration 500, loss = 0.5330\n",
            "iteration 600, loss = 0.6501\n",
            "iteration 700, loss = 0.9429\n",
            "iteration 800, loss = 0.7214\n",
            "iteration 900, loss = 0.6161\n",
            "iteration 1000, loss = 0.6623\n",
            "iteration 1100, loss = 0.7537\n",
            "iteration 1200, loss = 0.6808\n",
            "iteration 1300, loss = 0.6590\n",
            "iteration 1400, loss = 0.5307\n",
            "iteration 1500, loss = 0.7100\n",
            "epochs : 9 / 25\n",
            "Test set accuracy\n",
            "Correct : (7165 / 10000), Accuracy : (71.65)\n",
            "iteration 0, loss = 0.6652\n",
            "iteration 100, loss = 0.9993\n",
            "iteration 200, loss = 0.7781\n",
            "iteration 300, loss = 1.0513\n",
            "iteration 400, loss = 0.7308\n",
            "iteration 500, loss = 0.4739\n",
            "iteration 600, loss = 0.6519\n",
            "iteration 700, loss = 0.6119\n",
            "iteration 800, loss = 0.3846\n",
            "iteration 900, loss = 0.4426\n",
            "iteration 1000, loss = 0.9108\n",
            "iteration 1100, loss = 0.6209\n",
            "iteration 1200, loss = 0.5945\n",
            "iteration 1300, loss = 0.6746\n",
            "iteration 1400, loss = 1.0722\n",
            "iteration 1500, loss = 0.6713\n",
            "epochs : 10 / 25\n",
            "Test set accuracy\n",
            "Correct : (7217 / 10000), Accuracy : (72.17)\n",
            "iteration 0, loss = 0.2265\n",
            "iteration 100, loss = 0.6191\n",
            "iteration 200, loss = 0.8060\n",
            "iteration 300, loss = 0.5544\n",
            "iteration 400, loss = 0.6314\n",
            "iteration 500, loss = 0.5220\n",
            "iteration 600, loss = 0.4824\n",
            "iteration 700, loss = 0.5661\n",
            "iteration 800, loss = 0.8032\n",
            "iteration 900, loss = 0.8528\n",
            "iteration 1000, loss = 0.6615\n",
            "iteration 1100, loss = 0.3376\n",
            "iteration 1200, loss = 0.8423\n",
            "iteration 1300, loss = 0.8538\n",
            "iteration 1400, loss = 0.2779\n",
            "iteration 1500, loss = 0.5752\n",
            "epochs : 11 / 25\n",
            "Test set accuracy\n",
            "Correct : (7192 / 10000), Accuracy : (71.92)\n",
            "iteration 0, loss = 0.9119\n",
            "iteration 100, loss = 0.2738\n",
            "iteration 200, loss = 0.2905\n",
            "iteration 300, loss = 0.5409\n",
            "iteration 400, loss = 0.5971\n",
            "iteration 500, loss = 0.4673\n",
            "iteration 600, loss = 0.5230\n",
            "iteration 700, loss = 0.3724\n",
            "iteration 800, loss = 0.6365\n",
            "iteration 900, loss = 0.5947\n",
            "iteration 1000, loss = 0.7315\n",
            "iteration 1100, loss = 0.3803\n",
            "iteration 1200, loss = 0.5151\n",
            "iteration 1300, loss = 0.4634\n",
            "iteration 1400, loss = 0.4973\n",
            "iteration 1500, loss = 0.4491\n",
            "epochs : 12 / 25\n",
            "Test set accuracy\n",
            "Correct : (7288 / 10000), Accuracy : (72.88)\n",
            "iteration 0, loss = 0.3674\n",
            "iteration 100, loss = 0.3675\n",
            "iteration 200, loss = 0.3710\n",
            "iteration 300, loss = 0.5896\n",
            "iteration 400, loss = 0.3514\n",
            "iteration 500, loss = 0.5892\n",
            "iteration 600, loss = 0.4863\n",
            "iteration 700, loss = 0.6678\n",
            "iteration 800, loss = 0.5104\n",
            "iteration 900, loss = 0.5542\n",
            "iteration 1000, loss = 0.8091\n",
            "iteration 1100, loss = 0.5074\n",
            "iteration 1200, loss = 0.6450\n",
            "iteration 1300, loss = 0.5505\n",
            "iteration 1400, loss = 0.4271\n",
            "iteration 1500, loss = 0.7102\n",
            "epochs : 13 / 25\n",
            "Test set accuracy\n",
            "Correct : (7376 / 10000), Accuracy : (73.76)\n",
            "iteration 0, loss = 0.4592\n",
            "iteration 100, loss = 0.3550\n",
            "iteration 200, loss = 0.4323\n",
            "iteration 300, loss = 0.4073\n",
            "iteration 400, loss = 0.4253\n",
            "iteration 500, loss = 0.4637\n",
            "iteration 600, loss = 0.4023\n",
            "iteration 700, loss = 0.6271\n",
            "iteration 800, loss = 0.3196\n",
            "iteration 900, loss = 0.6387\n",
            "iteration 1000, loss = 0.3552\n",
            "iteration 1100, loss = 0.8083\n",
            "iteration 1200, loss = 0.4787\n",
            "iteration 1300, loss = 0.3459\n",
            "iteration 1400, loss = 0.4240\n",
            "iteration 1500, loss = 0.4052\n",
            "epochs : 14 / 25\n",
            "Test set accuracy\n",
            "Correct : (7350 / 10000), Accuracy : (73.50)\n",
            "iteration 0, loss = 0.3597\n",
            "iteration 100, loss = 0.6235\n",
            "iteration 200, loss = 0.6626\n",
            "iteration 300, loss = 0.3114\n",
            "iteration 400, loss = 0.2129\n",
            "iteration 500, loss = 0.5337\n",
            "iteration 600, loss = 0.4943\n",
            "iteration 700, loss = 0.2201\n",
            "iteration 800, loss = 0.3566\n",
            "iteration 900, loss = 0.6072\n",
            "iteration 1000, loss = 0.2580\n",
            "iteration 1100, loss = 0.4190\n",
            "iteration 1200, loss = 0.3672\n",
            "iteration 1300, loss = 0.3197\n",
            "iteration 1400, loss = 0.4012\n",
            "iteration 1500, loss = 0.2998\n",
            "epochs : 15 / 25\n",
            "Test set accuracy\n",
            "Correct : (7381 / 10000), Accuracy : (73.81)\n",
            "iteration 0, loss = 0.3867\n",
            "iteration 100, loss = 0.5407\n",
            "iteration 200, loss = 0.3045\n",
            "iteration 300, loss = 0.7843\n",
            "iteration 400, loss = 0.3567\n",
            "iteration 500, loss = 0.2289\n",
            "iteration 600, loss = 0.4861\n",
            "iteration 700, loss = 0.3867\n",
            "iteration 800, loss = 0.2494\n",
            "iteration 900, loss = 0.5623\n",
            "iteration 1000, loss = 0.3848\n",
            "iteration 1100, loss = 0.7569\n",
            "iteration 1200, loss = 0.5322\n",
            "iteration 1300, loss = 0.6523\n",
            "iteration 1400, loss = 0.3678\n",
            "iteration 1500, loss = 0.2241\n",
            "epochs : 16 / 25\n",
            "Test set accuracy\n",
            "Correct : (7378 / 10000), Accuracy : (73.78)\n",
            "iteration 0, loss = 0.2795\n",
            "iteration 100, loss = 0.2292\n",
            "iteration 200, loss = 0.2008\n",
            "iteration 300, loss = 0.1620\n",
            "iteration 400, loss = 0.3069\n",
            "iteration 500, loss = 0.1667\n",
            "iteration 600, loss = 0.2040\n",
            "iteration 700, loss = 0.3598\n",
            "iteration 800, loss = 0.3303\n",
            "iteration 900, loss = 0.2175\n",
            "iteration 1000, loss = 0.6457\n",
            "iteration 1100, loss = 0.2269\n",
            "iteration 1200, loss = 0.2591\n",
            "iteration 1300, loss = 0.3942\n",
            "iteration 1400, loss = 0.4091\n",
            "iteration 1500, loss = 0.3574\n",
            "epochs : 17 / 25\n",
            "Test set accuracy\n",
            "Correct : (7476 / 10000), Accuracy : (74.76)\n",
            "iteration 0, loss = 0.2190\n",
            "iteration 100, loss = 0.1771\n",
            "iteration 200, loss = 0.2172\n",
            "iteration 300, loss = 0.2007\n",
            "iteration 400, loss = 0.2190\n",
            "iteration 500, loss = 0.1308\n",
            "iteration 600, loss = 0.4540\n",
            "iteration 700, loss = 0.4882\n",
            "iteration 800, loss = 0.1365\n",
            "iteration 900, loss = 0.4754\n",
            "iteration 1000, loss = 0.1326\n",
            "iteration 1100, loss = 0.2734\n",
            "iteration 1200, loss = 0.5317\n",
            "iteration 1300, loss = 0.2783\n",
            "iteration 1400, loss = 0.3719\n",
            "iteration 1500, loss = 0.4625\n",
            "epochs : 18 / 25\n",
            "Test set accuracy\n",
            "Correct : (7467 / 10000), Accuracy : (74.67)\n",
            "iteration 0, loss = 0.1269\n",
            "iteration 100, loss = 0.3294\n",
            "iteration 200, loss = 0.2106\n",
            "iteration 300, loss = 0.1633\n",
            "iteration 400, loss = 0.4013\n",
            "iteration 500, loss = 0.2788\n",
            "iteration 600, loss = 0.4901\n",
            "iteration 700, loss = 0.2520\n",
            "iteration 800, loss = 0.4082\n",
            "iteration 900, loss = 0.1152\n",
            "iteration 1000, loss = 0.1692\n",
            "iteration 1100, loss = 0.2524\n",
            "iteration 1200, loss = 0.3688\n",
            "iteration 1300, loss = 0.1561\n",
            "iteration 1400, loss = 0.4049\n",
            "iteration 1500, loss = 0.3906\n",
            "epochs : 19 / 25\n",
            "Test set accuracy\n",
            "Correct : (7382 / 10000), Accuracy : (73.82)\n",
            "iteration 0, loss = 0.0416\n",
            "iteration 100, loss = 0.1692\n",
            "iteration 200, loss = 0.2975\n",
            "iteration 300, loss = 0.1528\n",
            "iteration 400, loss = 0.3875\n",
            "iteration 500, loss = 0.1121\n",
            "iteration 600, loss = 0.2272\n",
            "iteration 700, loss = 0.4992\n",
            "iteration 800, loss = 0.1823\n",
            "iteration 900, loss = 0.4063\n",
            "iteration 1000, loss = 0.3272\n",
            "iteration 1100, loss = 0.1689\n",
            "iteration 1200, loss = 0.3835\n",
            "iteration 1300, loss = 0.3700\n",
            "iteration 1400, loss = 0.1030\n",
            "iteration 1500, loss = 0.3581\n",
            "epochs : 20 / 25\n",
            "Test set accuracy\n",
            "Correct : (7262 / 10000), Accuracy : (72.62)\n",
            "iteration 0, loss = 0.2457\n",
            "iteration 100, loss = 0.3538\n",
            "iteration 200, loss = 0.1114\n",
            "iteration 300, loss = 0.0802\n",
            "iteration 400, loss = 0.2219\n",
            "iteration 500, loss = 0.1671\n",
            "iteration 600, loss = 0.3978\n",
            "iteration 700, loss = 0.0670\n",
            "iteration 800, loss = 0.3452\n",
            "iteration 900, loss = 0.1982\n",
            "iteration 1000, loss = 0.3345\n",
            "iteration 1100, loss = 0.3376\n",
            "iteration 1200, loss = 0.3650\n",
            "iteration 1300, loss = 0.4164\n",
            "iteration 1400, loss = 0.1131\n",
            "iteration 1500, loss = 0.2371\n",
            "epochs : 21 / 25\n",
            "Test set accuracy\n",
            "Correct : (7509 / 10000), Accuracy : (75.09)\n",
            "iteration 0, loss = 0.1452\n",
            "iteration 100, loss = 0.1173\n",
            "iteration 200, loss = 0.1455\n",
            "iteration 300, loss = 0.1999\n",
            "iteration 400, loss = 0.2088\n",
            "iteration 500, loss = 0.1634\n",
            "iteration 600, loss = 0.1673\n",
            "iteration 700, loss = 0.3578\n",
            "iteration 800, loss = 0.1937\n",
            "iteration 900, loss = 0.1597\n",
            "iteration 1000, loss = 0.2215\n",
            "iteration 1100, loss = 0.1751\n",
            "iteration 1200, loss = 0.5251\n",
            "iteration 1300, loss = 0.1624\n",
            "iteration 1400, loss = 0.2415\n",
            "iteration 1500, loss = 0.1868\n",
            "epochs : 22 / 25\n",
            "Test set accuracy\n",
            "Correct : (7353 / 10000), Accuracy : (73.53)\n",
            "iteration 0, loss = 0.1365\n",
            "iteration 100, loss = 0.1991\n",
            "iteration 200, loss = 0.2050\n",
            "iteration 300, loss = 0.1846\n",
            "iteration 400, loss = 0.1692\n",
            "iteration 500, loss = 0.1317\n",
            "iteration 600, loss = 0.2561\n",
            "iteration 700, loss = 0.2350\n",
            "iteration 800, loss = 0.3611\n",
            "iteration 900, loss = 0.1879\n",
            "iteration 1000, loss = 0.1711\n",
            "iteration 1100, loss = 0.3312\n",
            "iteration 1200, loss = 0.1992\n",
            "iteration 1300, loss = 0.2266\n",
            "iteration 1400, loss = 0.2489\n",
            "iteration 1500, loss = 0.3881\n",
            "epochs : 23 / 25\n",
            "Test set accuracy\n",
            "Correct : (7272 / 10000), Accuracy : (72.72)\n",
            "iteration 0, loss = 0.0854\n",
            "iteration 100, loss = 0.0770\n",
            "iteration 200, loss = 0.1138\n",
            "iteration 300, loss = 0.2166\n",
            "iteration 400, loss = 0.0891\n",
            "iteration 500, loss = 0.1326\n",
            "iteration 600, loss = 0.2671\n",
            "iteration 700, loss = 0.1670\n",
            "iteration 800, loss = 0.1920\n",
            "iteration 900, loss = 0.1398\n",
            "iteration 1000, loss = 0.1840\n",
            "iteration 1100, loss = 0.2661\n",
            "iteration 1200, loss = 0.2737\n",
            "iteration 1300, loss = 0.1540\n",
            "iteration 1400, loss = 0.2905\n",
            "iteration 1500, loss = 0.2535\n",
            "epochs : 24 / 25\n",
            "Test set accuracy\n",
            "Correct : (7474 / 10000), Accuracy : (74.74)\n",
            "iteration 0, loss = 0.0796\n",
            "iteration 100, loss = 0.1777\n",
            "iteration 200, loss = 0.3254\n",
            "iteration 300, loss = 0.2821\n",
            "iteration 400, loss = 0.1727\n",
            "iteration 500, loss = 0.1142\n",
            "iteration 600, loss = 0.0681\n",
            "iteration 700, loss = 0.1931\n",
            "iteration 800, loss = 0.2419\n",
            "iteration 900, loss = 0.1462\n",
            "iteration 1000, loss = 0.1820\n",
            "iteration 1100, loss = 0.3239\n",
            "iteration 1200, loss = 0.3065\n",
            "iteration 1300, loss = 0.0546\n",
            "iteration 1400, loss = 0.0928\n",
            "iteration 1500, loss = 0.2851\n"
          ]
        }
      ]
    },
    {
      "cell_type": "markdown",
      "source": [
        "### ResNet"
      ],
      "metadata": {
        "id": "UUYrueYuk28d"
      }
    },
    {
      "cell_type": "code",
      "source": [
        "learning_rate = 5e-3\n",
        "\n",
        "resnet = ResNet(5)\n",
        "optimizer_resnet = optim.SGD(resnet.parameters(), lr = learning_rate, momentum = 0.9, nesterov = True)"
      ],
      "metadata": {
        "id": "QwtzkmkuAD1y"
      },
      "execution_count": 23,
      "outputs": []
    },
    {
      "cell_type": "code",
      "source": [
        "train_log_resnet =  train(resnet, optimizer_resnet, loader_train, epochs = 20, verbose = False)"
      ],
      "metadata": {
        "id": "wj8SHAVZASXx"
      },
      "execution_count": 36,
      "outputs": []
    },
    {
      "cell_type": "markdown",
      "source": [
        "### Visualize"
      ],
      "metadata": {
        "id": "IeZlKSLgk7tO"
      }
    },
    {
      "cell_type": "code",
      "source": [
        "plot_loss(train_log_resnet['loss'], 'resnet')\n",
        "plot_loss(train_log_plain['loss'], 'plain')"
      ],
      "metadata": {
        "colab": {
          "base_uri": "https://localhost:8080/",
          "height": 279
        },
        "id": "8DdyPDSnG1UE",
        "outputId": "41083413-fa30-4425-f12a-8710c05f7050"
      },
      "execution_count": 37,
      "outputs": [
        {
          "output_type": "display_data",
          "data": {
            "image/png": "[encoded data removed]",
            "text/plain": [
              "<Figure size 432x288 with 1 Axes>"
            ]
          },
          "metadata": {
            "needs_background": "light"
          }
        }
      ]
    },
    {
      "cell_type": "code",
      "source": [
        "plot_acc(train_log_resnet['acc'], 'resnet')\n",
        "plot_acc(train_log_plain['acc'], 'plain')"
      ],
      "metadata": {
        "id": "iz4FjVNqjz6S",
        "colab": {
          "base_uri": "https://localhost:8080/",
          "height": 279
        },
        "outputId": "3a9a0efe-0557-4fb4-e263-35684df8c4d8"
      },
      "execution_count": 38,
      "outputs": [
        {
          "output_type": "display_data",
          "data": {
            "image/png": "[encoded data removed]",
            "text/plain": [
              "<Figure size 432x288 with 1 Axes>"
            ]
          },
          "metadata": {
            "needs_background": "light"
          }
        }
      ]
    }
  ]
}
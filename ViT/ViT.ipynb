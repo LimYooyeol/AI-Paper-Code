{
  "nbformat": 4,
  "nbformat_minor": 0,
  "metadata": {
    "colab": {
      "name": "ViT.ipynb",
      "provenance": [],
      "collapsed_sections": [],
      "toc_visible": true,
      "authorship_tag": "ABX9TyOOP6KUalhr3+/2BBpJVQrd",
      "include_colab_link": true
    },
    "kernelspec": {
      "name": "python3",
      "display_name": "Python 3"
    },
    "language_info": {
      "name": "python"
    },
    "accelerator": "GPU"
  },
  "cells": [
    {
      "cell_type": "markdown",
      "metadata": {
        "id": "view-in-github",
        "colab_type": "text"
      },
      "source": [
        "<a href=\"https://colab.research.google.com/github/LimYooyeol/AI-Paper-Code/blob/main/ViT/ViT.ipynb\" target=\"_parent\"><img src=\"https://colab.research.google.com/assets/colab-badge.svg\" alt=\"Open In Colab\"/></a>"
      ]
    },
    {
      "cell_type": "code",
      "execution_count": 16,
      "metadata": {
        "colab": {
          "base_uri": "https://localhost:8080/",
          "height": 72
        },
        "id": "T3Dsu1mzhQhN",
        "outputId": "7d04ce18-89d7-4cd5-8add-6bd5c19dc7a2"
      },
      "outputs": [
        {
          "output_type": "stream",
          "name": "stdout",
          "text": [
            "Drive already mounted at /content/drive; to attempt to forcibly remount, call drive.mount(\"/content/drive\", force_remount=True).\n",
            "/content/drive/My Drive/Paper Implementation\n"
          ]
        },
        {
          "output_type": "execute_result",
          "data": {
            "application/vnd.google.colaboratory.intrinsic+json": {
              "type": "string"
            },
            "text/plain": [
              "'/content/drive/My Drive/Paper Implementation'"
            ]
          },
          "metadata": {},
          "execution_count": 16
        }
      ],
      "source": [
        "from google.colab import drive\n",
        "drive.mount('/content/drive')\n",
        "\n",
        "BASE = '/content/drive/My Drive/Paper Implementation/'\n",
        "\n",
        "%cd $BASE\n",
        "\n",
        "%pwd"
      ]
    },
    {
      "cell_type": "code",
      "source": [
        "import torch\n",
        "import torch.nn as nn\n",
        "import torch.optim as optim\n",
        "\n",
        "import torch.nn.functional as F\n",
        "\n",
        "from torch.utils.data import DataLoader\n",
        "from torch.utils.data import sampler\n",
        "\n",
        "import torchvision.datasets as dset\n",
        "import torchvision.transforms as T\n",
        "\n",
        "import numpy as np\n",
        "\n",
        "import os"
      ],
      "metadata": {
        "id": "0lShEJ5_hXu2"
      },
      "execution_count": 17,
      "outputs": []
    },
    {
      "cell_type": "code",
      "source": [
        "!pip install einops"
      ],
      "metadata": {
        "colab": {
          "base_uri": "https://localhost:8080/"
        },
        "id": "SnYHfWumiIes",
        "outputId": "32e08b14-f442-48e8-b5ff-35d31eaebefe"
      },
      "execution_count": 18,
      "outputs": [
        {
          "output_type": "stream",
          "name": "stdout",
          "text": [
            "Requirement already satisfied: einops in /usr/local/lib/python3.7/dist-packages (0.4.0)\n"
          ]
        }
      ]
    },
    {
      "cell_type": "markdown",
      "source": [
        "## Prepare Data (CIFAR 10)"
      ],
      "metadata": {
        "id": "5GlexiMyimjP"
      }
    },
    {
      "cell_type": "markdown",
      "source": [
        "### Load Data"
      ],
      "metadata": {
        "id": "njDXktFziv24"
      }
    },
    {
      "cell_type": "code",
      "source": [
        "DATAPATH = BASE + 'datasets'\n",
        "if not os.path.exists(DATAPATH):\n",
        "  os.mkdir(DATAPATH)\n",
        "\n",
        "# set device\n",
        "if torch.cuda.is_available() :\n",
        "  device = torch.device('cuda')\n",
        "else:\n",
        "  device = torch.device('cpu')\n",
        "\n",
        "\n",
        "transform = T.Compose([\n",
        "                       T.ToTensor(),\n",
        "                       T.Normalize((0.4914, 0.4822, 0.4465), (0.247, 0.243, 0.261))\n",
        "    ])\n",
        "\n",
        "\n",
        "# load data\n",
        "train_data = dset.CIFAR10('./datasets', train = True, download = True, transform = transform)\n",
        "loader_train = DataLoader(train_data, batch_size = 32, shuffle= True) # no validation set\n",
        "\n",
        "test_data = dset.CIFAR10('./datasets', train = False, download = True, transform= transform)\n",
        "loader_test = DataLoader(test_data, batch_size = 32, shuffle = True)"
      ],
      "metadata": {
        "colab": {
          "base_uri": "https://localhost:8080/"
        },
        "id": "TvsKbfUsiVQM",
        "outputId": "bd324d9c-dcf4-4f8d-d0e7-45e3ab0d2340"
      },
      "execution_count": 19,
      "outputs": [
        {
          "output_type": "stream",
          "name": "stdout",
          "text": [
            "Files already downloaded and verified\n",
            "Files already downloaded and verified\n"
          ]
        }
      ]
    },
    {
      "cell_type": "markdown",
      "source": [
        "### show an image"
      ],
      "metadata": {
        "id": "GQzwrlVkiyfR"
      }
    },
    {
      "cell_type": "code",
      "source": [
        "import matplotlib.pyplot as plt\n",
        "\n",
        "_, label = train_data[0]\n",
        "img = train_data.data[0]\n",
        "\n",
        "plt.imshow(img)\n",
        "plt.show()\n",
        "print(label)\n",
        "train_data.classes[label]"
      ],
      "metadata": {
        "colab": {
          "base_uri": "https://localhost:8080/",
          "height": 302
        },
        "id": "YIhvPNnpiqz5",
        "outputId": "7bff22f6-d761-4bdd-a2a4-46c876b38563"
      },
      "execution_count": 20,
      "outputs": [
        {
          "output_type": "display_data",
          "data": {
            "image/png": "[encoded data removed]",
            "text/plain": [
              "<Figure size 432x288 with 1 Axes>"
            ]
          },
          "metadata": {
            "needs_background": "light"
          }
        },
        {
          "output_type": "stream",
          "name": "stdout",
          "text": [
            "6\n"
          ]
        },
        {
          "output_type": "execute_result",
          "data": {
            "application/vnd.google.colaboratory.intrinsic+json": {
              "type": "string"
            },
            "text/plain": [
              "'frog'"
            ]
          },
          "metadata": {},
          "execution_count": 20
        }
      ]
    },
    {
      "cell_type": "markdown",
      "source": [
        "## Define Training Loop"
      ],
      "metadata": {
        "id": "oLZ5hzib_OiY"
      }
    },
    {
      "cell_type": "markdown",
      "source": [
        "Referenced a lot from cs231n/assignment2 a lot for this part\n",
        "( https://cs231n.github.io/assignments2021/assignment2/)"
      ],
      "metadata": {
        "id": "IjLBnCqBvm3t"
      }
    },
    {
      "cell_type": "markdown",
      "source": [
        "### Accuracy"
      ],
      "metadata": {
        "id": "TReDAUxC_T9F"
      }
    },
    {
      "cell_type": "code",
      "source": [
        "def check_accuracy(data_loader, model, verbose = True) :\n",
        "\n",
        "  if verbose :\n",
        "    if data_loader.dataset.train :\n",
        "      print('Train set accurcy')\n",
        "    else :\n",
        "      print('Test set accuracy')\n",
        "\n",
        "  num_correct = 0\n",
        "  num_total = 0\n",
        "  model.eval() # evaluation mode\n",
        "\n",
        "  with torch.no_grad() :\n",
        "    for x, y in data_loader :\n",
        "      x = x.to(device = device)\n",
        "      y = y.to(device = device)\n",
        "\n",
        "      scores = model(x)\n",
        "\n",
        "      _, preds = scores.max(1)\n",
        "      num_correct += (preds == y).sum()\n",
        "      num_total += preds.size(0)\n",
        "    \n",
        "    acc = float(num_correct) / num_total\n",
        "    if verbose :\n",
        "      print('Correct : (%d / %d), Accuracy : (%.2f)' % (num_correct, num_total, 100*acc))\n",
        "\n",
        "  return 100*acc"
      ],
      "metadata": {
        "id": "2ZqruyAdjkvM"
      },
      "execution_count": 21,
      "outputs": []
    },
    {
      "cell_type": "markdown",
      "source": [
        "### Trainig Loop"
      ],
      "metadata": {
        "id": "fFF7k6yS_ZM9"
      }
    },
    {
      "cell_type": "code",
      "source": [
        "def train(model, optimizer, data_loader, epochs = 1, verbose = True):\n",
        "  model = model.to(device = device)\n",
        "\n",
        "  log = {'loss' : [], 'acc' : []}\n",
        "\n",
        "  for e in range(epochs):\n",
        "    if verbose : \n",
        "      print('epochs : %d / %d' % (e, epochs))\n",
        "    log['acc'].append(check_accuracy(loader_test, model, verbose = verbose))\n",
        "    \n",
        "    for t, (x, y) in enumerate(data_loader) :\n",
        "      model.train() # training mode\n",
        "      x = x.to(device = device)\n",
        "      y = y.to(device = device)\n",
        "\n",
        "      scores = model(x)\n",
        "      loss = F.cross_entropy(scores, y)\n",
        "\n",
        "      optimizer.zero_grad()\n",
        "\n",
        "      loss.backward()\n",
        "\n",
        "      optimizer.step()\n",
        "\n",
        "      if t % 100 == 0 :\n",
        "        log['loss'].append(loss)\n",
        "        if verbose :\n",
        "          print('iteration %d, loss = %.4f' % (t, loss.item()))\n",
        "  \n",
        "  return log"
      ],
      "metadata": {
        "id": "L5hvJOSX_ZYv"
      },
      "execution_count": 22,
      "outputs": []
    },
    {
      "cell_type": "markdown",
      "source": [
        "## Modules"
      ],
      "metadata": {
        "id": "yD0ZlPOF_gRm"
      }
    },
    {
      "cell_type": "markdown",
      "source": [
        "### Embedding"
      ],
      "metadata": {
        "id": "OZ331gJqXHXz"
      }
    },
    {
      "cell_type": "code",
      "source": [
        "from einops import rearrange\n",
        "\n",
        "class Embedding(nn.Module) :\n",
        "  def __init__(self, input_size = 32, input_channel = 3, hidden_size = 8*8*3, patch_size = 4) :\n",
        "    super().__init__()\n",
        "\n",
        "    self.patch_size = patch_size\n",
        "    self.hidden_size = hidden_size\n",
        "\n",
        "    self.projection = nn.Linear((patch_size**2)*input_channel, hidden_size, bias = False)\n",
        "\n",
        "    self.cls_token = nn.Parameter(torch.zeros(hidden_size), requires_grad= True)\n",
        "\n",
        "    num_patches = int((input_size / patch_size) ** 2 + 1)\n",
        "\n",
        "    self.positional = nn.Parameter(torch.zeros((num_patches, hidden_size), requires_grad= True))\n",
        "\n",
        "\n",
        "  def forward(self, x) :\n",
        "    x = rearrange(x, 'b c (h p1) (w p2) -> b (h w) (c p1 p2)', p1 = self.patch_size, p2 = self.patch_size)\n",
        "    x = self.projection(x)\n",
        "\n",
        "    batch_size = x.shape[0]\n",
        "\n",
        "    x = torch.concat((self.cls_token.expand(batch_size, 1, self.hidden_size), x), axis = 1)\n",
        "\n",
        "    x = x + self.positional\n",
        "\n",
        "    return x\n"
      ],
      "metadata": {
        "id": "cZK34rQs_h3e"
      },
      "execution_count": 23,
      "outputs": []
    },
    {
      "cell_type": "code",
      "source": [
        "temp = torch.arange(32*3*32*32, dtype = torch.float32).reshape(32, 3, 32, 32)\n",
        "emb = Embedding()\n",
        "emb(temp).shape"
      ],
      "metadata": {
        "colab": {
          "base_uri": "https://localhost:8080/"
        },
        "id": "yvTExGifCBZm",
        "outputId": "628faaae-cd5a-455d-cbc5-92d6d0e2060e"
      },
      "execution_count": 24,
      "outputs": [
        {
          "output_type": "execute_result",
          "data": {
            "text/plain": [
              "torch.Size([32, 65, 192])"
            ]
          },
          "metadata": {},
          "execution_count": 24
        }
      ]
    },
    {
      "cell_type": "markdown",
      "source": [
        "### Transformer Encoder"
      ],
      "metadata": {
        "id": "lz80WzPzv828"
      }
    },
    {
      "cell_type": "markdown",
      "source": [
        "#### -MSA"
      ],
      "metadata": {
        "id": "2tvlaznpXKBk"
      }
    },
    {
      "cell_type": "code",
      "source": [
        "# not parallelized version\n",
        "\"\"\"\n",
        "class SelfAttention(nn.Module) :\n",
        "  def __init__(self, input_dim, D_h) :\n",
        "    super().__init__()\n",
        "\n",
        "    self.D_h = D_h\n",
        "\n",
        "    self.q = nn.Linear(input_dim, D_h, bias = False)\n",
        "    self.k = nn.Linear(input_dim, D_h, bias = False)\n",
        "    self.v = nn.Linear(input_dim, D_h, bias = False)\n",
        "\n",
        "    self.softmax = nn.Softmax(dim = 1)\n",
        "\n",
        "  def forward(self, x):\n",
        "    q = self.q(x)\n",
        "    k = self.k(x)\n",
        "    k_tranpose = torch.transpose(k, 1, 2)\n",
        "    v = self.v(x)\n",
        "\n",
        "    A = self.softmax(torch.matmul(q, k_tranpose) / (self.D_h ** (1/2)))\n",
        "\n",
        "    return torch.matmul(A, v)\n",
        "\n",
        "class MSA(nn.Module) :\n",
        "  def __init__(self, hidden_dim = 192, num_heads = 6) :\n",
        "    super().__init__()\n",
        "\n",
        "    self.num_heads = num_heads\n",
        "\n",
        "    heads = []\n",
        "    for i in range(0, num_heads) :\n",
        "      heads.append(SelfAttention(input_dim = hidden_dim, D_h = int(hidden_dim / num_heads)))\n",
        "\n",
        "    self.heads = nn.ModuleList(heads)    \n",
        "\n",
        "  def forward(self, x):\n",
        "    score = []\n",
        "\n",
        "    for i in range(0, self.num_heads) : \n",
        "      score.append(self.heads[i](x))\n",
        "    \n",
        "    return torch.concat(score, axis = 2)\n",
        "\"\"\""
      ],
      "metadata": {
        "id": "RdnvbBwnZx8s",
        "colab": {
          "base_uri": "https://localhost:8080/",
          "height": 145
        },
        "outputId": "f7ce6bec-1d41-4be1-fd97-a0e63d6c3f46"
      },
      "execution_count": 25,
      "outputs": [
        {
          "output_type": "execute_result",
          "data": {
            "application/vnd.google.colaboratory.intrinsic+json": {
              "type": "string"
            },
            "text/plain": [
              "'\\nclass SelfAttention(nn.Module) :\\n  def __init__(self, input_dim, D_h) :\\n    super().__init__()\\n\\n    self.D_h = D_h\\n\\n    self.q = nn.Linear(input_dim, D_h, bias = False)\\n    self.k = nn.Linear(input_dim, D_h, bias = False)\\n    self.v = nn.Linear(input_dim, D_h, bias = False)\\n\\n    self.softmax = nn.Softmax(dim = 1)\\n\\n  def forward(self, x):\\n    q = self.q(x)\\n    k = self.k(x)\\n    k_tranpose = torch.transpose(k, 1, 2)\\n    v = self.v(x)\\n\\n    A = self.softmax(torch.matmul(q, k_tranpose) / (self.D_h ** (1/2)))\\n\\n    return torch.matmul(A, v)\\n\\nclass MSA(nn.Module) :\\n  def __init__(self, hidden_dim = 192, num_heads = 6) :\\n    super().__init__()\\n\\n    self.num_heads = num_heads\\n\\n    heads = []\\n    for i in range(0, num_heads) :\\n      heads.append(SelfAttention(input_dim = hidden_dim, D_h = int(hidden_dim / num_heads)))\\n\\n    self.heads = nn.ModuleList(heads)    \\n\\n  def forward(self, x):\\n    score = []\\n\\n    for i in range(0, self.num_heads) : \\n      score.append(self.heads[i](x))\\n    \\n    return torch.concat(score, axis = 2)\\n'"
            ]
          },
          "metadata": {},
          "execution_count": 25
        }
      ]
    },
    {
      "cell_type": "code",
      "source": [
        "# https://github.com/FrancescoSaverioZuppichini/ViT/blob/main/transfomer.md\n",
        "\n",
        "class MSA(nn.Module) :\n",
        "  def __init__(self, hidden_dim = 8*8*3, num_heads = 6) :\n",
        "    super().__init__()\n",
        "\n",
        "    self.num_heads = num_heads\n",
        "    self.D_h = (hidden_dim / num_heads) ** (1/2) \n",
        "\n",
        "    self.queries = nn.Linear(hidden_dim, hidden_dim)\n",
        "    self.keys = nn.Linear(hidden_dim, hidden_dim)\n",
        "    self.values = nn.Linear(hidden_dim, hidden_dim)\n",
        "\n",
        "    self.softmax = nn.Softmax(dim = 1)\n",
        "\n",
        "\n",
        "  def forward(self, x) :\n",
        "    q = rearrange(self.queries(x), 'b n (h d) -> b h n d', h = self.num_heads)\n",
        "    k = rearrange(self.queries(x), 'b n (h d) -> b h n d', h = self.num_heads)\n",
        "    v = rearrange(self.queries(x), 'b n (h d) -> b h n d', h = self.num_heads)\n",
        "\n",
        "    A = torch.einsum('bhqd, bhkd -> bhqk', q, k)\n",
        "    A = self.softmax(A / self.D_h)\n",
        "\n",
        "    Ax = torch.einsum('bhan, bhnd -> bhad' ,A, v) # b : batch size, h : num_heads, n : num_patches, a : num_patches, d : D_h\n",
        "    return rearrange(Ax, 'b h n d -> b n (h d)')"
      ],
      "metadata": {
        "id": "Ia6xLzrDXGCb"
      },
      "execution_count": 26,
      "outputs": []
    },
    {
      "cell_type": "code",
      "source": [
        "temp = torch.zeros(32, 65, 192)\n",
        "\n",
        "MSA()(temp).shape"
      ],
      "metadata": {
        "colab": {
          "base_uri": "https://localhost:8080/"
        },
        "id": "PxSGr8dwmwah",
        "outputId": "d2ed71c9-d95e-4892-bcde-403e4dcd9148"
      },
      "execution_count": 27,
      "outputs": [
        {
          "output_type": "execute_result",
          "data": {
            "text/plain": [
              "torch.Size([32, 65, 192])"
            ]
          },
          "metadata": {},
          "execution_count": 27
        }
      ]
    },
    {
      "cell_type": "markdown",
      "source": [
        "#### -MLP"
      ],
      "metadata": {
        "id": "cnP02f5HsmAp"
      }
    },
    {
      "cell_type": "code",
      "source": [
        "class MLP(nn.Module):\n",
        "  def __init__(self, input_dim = 8*8*3, hidden_dim = 8*8*3*4, output_dim = 8*8*3):\n",
        "    super().__init__()\n",
        "\n",
        "    self.feedforward = nn.Sequential(\n",
        "        nn.Linear(input_dim, hidden_dim),\n",
        "        nn.GELU(),\n",
        "        nn.Linear(hidden_dim, output_dim),\n",
        "        nn.GELU()\n",
        "    )\n",
        "\n",
        "  def forward(self, x) :\n",
        "    return self.feedforward(x)"
      ],
      "metadata": {
        "id": "WbcS8v6Bn5kR"
      },
      "execution_count": 28,
      "outputs": []
    },
    {
      "cell_type": "code",
      "source": [
        "temp = torch.zeros(32, 65, 192)\n",
        "MLP()(temp).shape"
      ],
      "metadata": {
        "colab": {
          "base_uri": "https://localhost:8080/"
        },
        "id": "U8mYUgR1xm7H",
        "outputId": "2715c045-c8ba-4a6e-fb78-d63302494f87"
      },
      "execution_count": 29,
      "outputs": [
        {
          "output_type": "execute_result",
          "data": {
            "text/plain": [
              "torch.Size([32, 65, 192])"
            ]
          },
          "metadata": {},
          "execution_count": 29
        }
      ]
    },
    {
      "cell_type": "markdown",
      "source": [
        "#### -Transformer Encoder"
      ],
      "metadata": {
        "id": "3o7ICITFx1dD"
      }
    },
    {
      "cell_type": "code",
      "source": [
        "class TransformerEncoderBlock(nn.Module) :\n",
        "  def __init__(self, hidden_dim = 8*8*3, num_heads = 6, mlp_size = 8*8*3*4):\n",
        "    super().__init__()\n",
        "\n",
        "    self.LN = nn.LayerNorm(normalized_shape= hidden_dim)\n",
        "    self.MSA = MSA(hidden_dim = hidden_dim, num_heads = num_heads)\n",
        "    self.MLP = MLP(input_dim = hidden_dim, hidden_dim = mlp_size, output_dim = hidden_dim)\n",
        "\n",
        "  def forward(self, x) :\n",
        "    x_prev = x\n",
        "    x = self.LN(x)\n",
        "    x = self.MSA(x)\n",
        "\n",
        "    x = x + x_prev\n",
        "    x_prev = x\n",
        "\n",
        "    x = self.LN(x)\n",
        "    x = self.MLP(x)\n",
        "\n",
        "    return x + x_prev"
      ],
      "metadata": {
        "id": "3PCliJJQxsYr"
      },
      "execution_count": 30,
      "outputs": []
    },
    {
      "cell_type": "code",
      "source": [
        "temp = torch.zeros(32, 65, 192)\n",
        "TransformerEncoderBlock()(temp).shape"
      ],
      "metadata": {
        "colab": {
          "base_uri": "https://localhost:8080/"
        },
        "id": "AOOvG5El0Tih",
        "outputId": "869309c3-c58e-45fa-a0bc-6d9d164fe4b3"
      },
      "execution_count": 31,
      "outputs": [
        {
          "output_type": "execute_result",
          "data": {
            "text/plain": [
              "torch.Size([32, 65, 192])"
            ]
          },
          "metadata": {},
          "execution_count": 31
        }
      ]
    },
    {
      "cell_type": "code",
      "source": [
        "class TransformerEncoder(nn.Module):\n",
        "  def __init__(self, hidden_dim = 8*8*3, num_layers = 8) :\n",
        "    super().__init__()\n",
        "\n",
        "    self.num_layers = num_layers\n",
        "    self.hidden_dim = hidden_dim\n",
        "\n",
        "    layers = []\n",
        "\n",
        "    for i in range(0, num_layers) :\n",
        "      layers.append(TransformerEncoderBlock())\n",
        "\n",
        "    self.blocks = nn.ModuleList(layers)\n",
        "\n",
        "    self.LN = nn.LayerNorm(normalized_shape= hidden_dim)\n",
        "\n",
        "  def forward(self, x):\n",
        "    for i in range(0, self.num_layers) :\n",
        "      x = self.blocks[i](x)\n",
        "\n",
        "    return self.LN(x[:, 0, :])"
      ],
      "metadata": {
        "id": "r-MvjgDXyk_U"
      },
      "execution_count": 32,
      "outputs": []
    },
    {
      "cell_type": "code",
      "source": [
        "temp = torch.zeros(32, 65, 192)\n",
        "TransformerEncoder()(temp).shape"
      ],
      "metadata": {
        "colab": {
          "base_uri": "https://localhost:8080/"
        },
        "id": "A1XG-GR72bhG",
        "outputId": "22845614-2706-428e-f2be-6310e568b376"
      },
      "execution_count": 33,
      "outputs": [
        {
          "output_type": "execute_result",
          "data": {
            "text/plain": [
              "torch.Size([32, 192])"
            ]
          },
          "metadata": {},
          "execution_count": 33
        }
      ]
    },
    {
      "cell_type": "markdown",
      "source": [
        "### MLPHead"
      ],
      "metadata": {
        "id": "w7qlll9L4T08"
      }
    },
    {
      "cell_type": "code",
      "source": [
        "class MLPHead(nn.Module) :\n",
        "  def __init__(self, input_dim = 8*8*3, hidden_dim = 8*8*3*4, num_classes = 10) :\n",
        "    super().__init__()\n",
        "\n",
        "    self.feedforward = nn.Sequential(\n",
        "        nn.Linear(input_dim, hidden_dim),\n",
        "        nn.ReLU(),\n",
        "        nn.Linear(hidden_dim, num_classes)\n",
        "    )\n",
        "\n",
        "  def forward(self, x) :\n",
        "    return self.feedforward(x)"
      ],
      "metadata": {
        "id": "QuaegV0C23lX"
      },
      "execution_count": 34,
      "outputs": []
    },
    {
      "cell_type": "code",
      "source": [
        "temp = torch.zeros(32, 192)\n",
        "MLPHead()(temp).shape"
      ],
      "metadata": {
        "colab": {
          "base_uri": "https://localhost:8080/"
        },
        "id": "yufLd6gu5KRx",
        "outputId": "c1c082e8-4e81-4da5-f9cc-749efcd9d96a"
      },
      "execution_count": 35,
      "outputs": [
        {
          "output_type": "execute_result",
          "data": {
            "text/plain": [
              "torch.Size([32, 10])"
            ]
          },
          "metadata": {},
          "execution_count": 35
        }
      ]
    },
    {
      "cell_type": "markdown",
      "source": [
        "### ViT"
      ],
      "metadata": {
        "id": "gYpaZzso5T9O"
      }
    },
    {
      "cell_type": "code",
      "source": [
        "class ViT(nn.Module) :\n",
        "  def __init__(self, input_size = 32, patch_size = 4, hidden_size = 8*8*3, num_layers = 8) :\n",
        "    super().__init__()\n",
        "\n",
        "    self.vit = nn.Sequential(\n",
        "        Embedding(input_size = input_size, input_channel = 3, hidden_size = hidden_size, patch_size = patch_size),\n",
        "        TransformerEncoder(hidden_dim = hidden_size, num_layers = num_layers),\n",
        "        MLPHead(input_dim = hidden_size, hidden_dim = hidden_size*4, num_classes= 10)\n",
        "    )\n",
        "\n",
        "  def forward(self, x):\n",
        "    return self.vit(x)\n"
      ],
      "metadata": {
        "id": "byKkINwJ5W-9"
      },
      "execution_count": 36,
      "outputs": []
    },
    {
      "cell_type": "code",
      "source": [
        "temp = torch.zeros(32, 3, 32, 32).to(device= device)\n",
        "ViT().to(device = device)(temp).shape"
      ],
      "metadata": {
        "colab": {
          "base_uri": "https://localhost:8080/"
        },
        "id": "6uqC8txA6PCA",
        "outputId": "5bfacac0-35f9-462a-e166-55e40872763a"
      },
      "execution_count": 37,
      "outputs": [
        {
          "output_type": "execute_result",
          "data": {
            "text/plain": [
              "torch.Size([32, 10])"
            ]
          },
          "metadata": {},
          "execution_count": 37
        }
      ]
    },
    {
      "cell_type": "markdown",
      "source": [
        "## Training"
      ],
      "metadata": {
        "id": "dNTnOYNz6svr"
      }
    },
    {
      "cell_type": "code",
      "source": [
        "learning_rate = 1e-3\n",
        "\n",
        "vit = ViT()\n",
        "optimizer = optim.Adam(vit.parameters(), lr = learning_rate, betas = (0.9, 0.99))"
      ],
      "metadata": {
        "id": "DmwmM2Zi6S_p"
      },
      "execution_count": null,
      "outputs": []
    },
    {
      "cell_type": "code",
      "source": [
        "training_log = train(vit, optimizer, loader_train, epochs = 20, verbose = False)"
      ],
      "metadata": {
        "id": "OqqxX5c47YmJ"
      },
      "execution_count": null,
      "outputs": []
    },
    {
      "cell_type": "code",
      "source": [
        "def plot_loss(loss, label) :\n",
        "  plt.xlabel('iterations(1e2)')\n",
        "  plt.ylabel('training loss')\n",
        "\n",
        "  plt.plot(loss, label = label)\n",
        "  plt.legend()\n",
        "\n",
        "def plot_acc(acc, label) :\n",
        "  plt.xlabel('epochs')\n",
        "  plt.ylabel('accuracy(test data)')\n",
        "\n",
        "  plt.plot(acc, label = label)\n",
        "  plt.legend()"
      ],
      "metadata": {
        "id": "UPXCJK_meN7U"
      },
      "execution_count": null,
      "outputs": []
    },
    {
      "cell_type": "code",
      "source": [
        "plot_loss(training_log['loss'], 'ViT')"
      ],
      "metadata": {
        "colab": {
          "base_uri": "https://localhost:8080/",
          "height": 279
        },
        "id": "jeRHr_HseOlv",
        "outputId": "d09d13cb-dd67-4ca3-dc58-7abfc25e986c"
      },
      "execution_count": null,
      "outputs": [
        {
          "output_type": "display_data",
          "data": {
            "image/png": "[encoded data removed]",
            "text/plain": [
              "<Figure size 432x288 with 1 Axes>"
            ]
          },
          "metadata": {
            "needs_background": "light"
          }
        }
      ]
    },
    {
      "cell_type": "code",
      "source": [
        "plot_acc(training_log['acc'], 'ViT')"
      ],
      "metadata": {
        "colab": {
          "base_uri": "https://localhost:8080/",
          "height": 279
        },
        "id": "miRhGAcseY5z",
        "outputId": "f5304fd8-cb99-49ab-e223-6c30bd8285ae"
      },
      "execution_count": null,
      "outputs": [
        {
          "output_type": "display_data",
          "data": {
            "image/png": "[encoded data removed]",
            "text/plain": [
              "<Figure size 432x288 with 1 Axes>"
            ]
          },
          "metadata": {
            "needs_background": "light"
          }
        }
      ]
    }
  ]
}